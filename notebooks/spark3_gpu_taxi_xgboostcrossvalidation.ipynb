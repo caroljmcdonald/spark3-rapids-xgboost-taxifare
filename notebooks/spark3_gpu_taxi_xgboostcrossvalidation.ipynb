{
 "cells": [
  {
   "cell_type": "code",
   "execution_count": 41,
   "metadata": {
    "autoscroll": "auto"
   },
   "outputs": [
    {
     "data": {
      "application/vnd.jupyter.widget-view+json": {
       "model_id": "367b5f6361104584b3898eeb2761fa50",
       "version_major": 2,
       "version_minor": 0
      },
      "text/plain": [
       "VBox()"
      ]
     },
     "metadata": {},
     "output_type": "display_data"
    },
    {
     "name": "stderr",
     "output_type": "stream",
     "text": [
      "An error was encountered:\n",
      "Invalid status code '404' from http://localhost:8998/sessions/0 with error payload: {\"msg\":\"Session '0' not found.\"}\n"
     ]
    }
   ],
   "source": [
    "import ml.dmlc.xgboost4j.scala.spark.{XGBoostRegressionModel, XGBoostRegressor}\n",
    "import org.apache.spark.ml.evaluation.{RegressionEvaluator}\n",
    "import org.apache.spark.ml.tuning.ParamGridBuilder\n",
    "import org.apache.spark.sql.SparkSession\n",
    "import org.apache.spark.sql._\n",
    "import org.apache.spark.sql.functions._\n",
    "import org.apache.spark.sql.types._"
   ]
  },
  {
   "cell_type": "code",
   "execution_count": 3,
   "metadata": {
    "autoscroll": "auto"
   },
   "outputs": [
    {
     "data": {
      "application/vnd.jupyter.widget-view+json": {
       "model_id": "d7f52ebb538542c1b675c7281f48d16c",
       "version_major": 2,
       "version_minor": 0
      },
      "text/plain": [
       "VBox()"
      ]
     },
     "metadata": {},
     "output_type": "display_data"
    },
    {
     "data": {
      "application/vnd.jupyter.widget-view+json": {
       "model_id": "",
       "version_major": 2,
       "version_minor": 0
      },
      "text/plain": [
       "FloatProgress(value=0.0, bar_style='info', description='Progress:', layout=Layout(height='25px', width='50%'),…"
      ]
     },
     "metadata": {},
     "output_type": "display_data"
    },
    {
     "name": "stdout",
     "output_type": "stream",
     "text": [
      "schema: org.apache.spark.sql.types.StructType = StructType(StructField(vendor_id,FloatType,true), StructField(passenger_count,FloatType,true), StructField(trip_distance,FloatType,true), StructField(pickup_longitude,FloatType,true), StructField(pickup_latitude,FloatType,true), StructField(rate_code,FloatType,true), StructField(store_and_fwd,FloatType,true), StructField(dropoff_longitude,FloatType,true), StructField(dropoff_latitude,FloatType,true), StructField(fare_amount,FloatType,true), StructField(trip_time,LongType,true), StructField(year,IntegerType,true), StructField(month,IntegerType,true), StructField(day,FloatType,true), StructField(day_of_week,FloatType,true), StructField(is_weekend,FloatType,true), StructField(hour,FloatType,true), StructField(h_distance,DoubleType,true))\n"
     ]
    }
   ],
   "source": [
    "val schema =\n",
    "    StructType(Array(\n",
    "      StructField(\"vendor_id\", FloatType),\n",
    "      StructField(\"passenger_count\", FloatType),\n",
    "      StructField(\"trip_distance\", FloatType),\n",
    "      StructField(\"pickup_longitude\", FloatType),\n",
    "      StructField(\"pickup_latitude\", FloatType),\n",
    "      StructField(\"rate_code\", FloatType),\n",
    "      StructField(\"store_and_fwd\", FloatType),\n",
    "      StructField(\"dropoff_longitude\", FloatType),\n",
    "      StructField(\"dropoff_latitude\", FloatType),\n",
    "      StructField(\"fare_amount\", FloatType),\n",
    "      StructField(\"trip_time\",LongType),\n",
    "      StructField(\"year\", IntegerType),\n",
    "      StructField(\"month\", IntegerType),\n",
    "      StructField(\"day\", FloatType),\n",
    "      StructField(\"day_of_week\", FloatType),\n",
    "      StructField(\"is_weekend\", FloatType),\n",
    "      StructField(\"hour\", FloatType),\n",
    "      StructField(\"h_distance\",DoubleType)\n",
    "    ))"
   ]
  },
  {
   "cell_type": "code",
   "execution_count": 15,
   "metadata": {
    "autoscroll": "auto"
   },
   "outputs": [
    {
     "data": {
      "application/vnd.jupyter.widget-view+json": {
       "model_id": "aae1095b06f440f2b227c2b0a7751cb1",
       "version_major": 2,
       "version_minor": 0
      },
      "text/plain": [
       "VBox()"
      ]
     },
     "metadata": {},
     "output_type": "display_data"
    },
    {
     "data": {
      "application/vnd.jupyter.widget-view+json": {
       "model_id": "",
       "version_major": 2,
       "version_minor": 0
      },
      "text/plain": [
       "FloatProgress(value=0.0, bar_style='info', description='Progress:', layout=Layout(height='25px', width='50%'),…"
      ]
     },
     "metadata": {},
     "output_type": "display_data"
    },
    {
     "name": "stdout",
     "output_type": "stream",
     "text": [
      "import ml.dmlc.xgboost4j.scala.spark.rapids.CrossValidator\n"
     ]
    }
   ],
   "source": [
    "import ml.dmlc.xgboost4j.scala.spark.rapids.CrossValidator\n"
   ]
  },
  {
   "cell_type": "code",
   "execution_count": 4,
   "metadata": {
    "autoscroll": "auto"
   },
   "outputs": [
    {
     "data": {
      "application/vnd.jupyter.widget-view+json": {
       "model_id": "8f198ef5883642879270c633abb0d5a7",
       "version_major": 2,
       "version_minor": 0
      },
      "text/plain": [
       "VBox()"
      ]
     },
     "metadata": {},
     "output_type": "display_data"
    },
    {
     "data": {
      "application/vnd.jupyter.widget-view+json": {
       "model_id": "",
       "version_major": 2,
       "version_minor": 0
      },
      "text/plain": [
       "FloatProgress(value=0.0, bar_style='info', description='Progress:', layout=Layout(height='25px', width='50%'),…"
      ]
     },
     "metadata": {},
     "output_type": "display_data"
    },
    {
     "name": "stdout",
     "output_type": "stream",
     "text": [
      "df: org.apache.spark.sql.DataFrame = [vendor_id: float, passenger_count: float ... 16 more fields]\n"
     ]
    }
   ],
   "source": [
    "var df = spark.read.option(\"inferSchema\", \"false\").option(\"header\", true).schema(schema).csv(\"s3://bucketcjm/data/taxismall.csv\") "
   ]
  },
  {
   "cell_type": "code",
   "execution_count": 5,
   "metadata": {
    "autoscroll": "auto"
   },
   "outputs": [
    {
     "data": {
      "application/vnd.jupyter.widget-view+json": {
       "model_id": "808475f5880b4cd6b9c76038599ab24b",
       "version_major": 2,
       "version_minor": 0
      },
      "text/plain": [
       "VBox()"
      ]
     },
     "metadata": {},
     "output_type": "display_data"
    },
    {
     "data": {
      "application/vnd.jupyter.widget-view+json": {
       "model_id": "",
       "version_major": 2,
       "version_minor": 0
      },
      "text/plain": [
       "FloatProgress(value=0.0, bar_style='info', description='Progress:', layout=Layout(height='25px', width='50%'),…"
      ]
     },
     "metadata": {},
     "output_type": "display_data"
    },
    {
     "name": "stdout",
     "output_type": "stream",
     "text": [
      "+---------+---------------+-------------+----------------+---------------+---------+-------------+-----------------+----------------+-----------+---------+----+-----+----+-----------+----------+----+------------------+\n",
      "|vendor_id|passenger_count|trip_distance|pickup_longitude|pickup_latitude|rate_code|store_and_fwd|dropoff_longitude|dropoff_latitude|fare_amount|trip_time|year|month| day|day_of_week|is_weekend|hour|        h_distance|\n",
      "+---------+---------------+-------------+----------------+---------------+---------+-------------+-----------------+----------------+-----------+---------+----+-----+----+-----------+----------+----+------------------+\n",
      "|      1.0|            1.0|          1.1|         -74.005|         40.743|      1.0|          0.0|          -73.992|          40.754|        6.5|      341|2016|    5|15.0|        1.0|       1.0|20.0|1.5971032399653422|\n",
      "|      1.0|            1.0|          1.1|         -74.003|         40.718|      1.0|          0.0|          -74.004|          40.731|        7.5|      514|2016|    1|21.0|        5.0|       0.0|11.0|1.3818754725102933|\n",
      "|      1.0|            1.0|          1.1|         -74.003|         40.727|      1.0|          0.0|           -73.99|          40.731|        6.5|      467|2016|    5|14.0|        7.0|       1.0|20.0|1.2132932124610092|\n",
      "|      1.0|            1.0|          1.1|         -74.002|         40.751|      1.0|          0.0|       -73.993996|          40.741|        6.0|      374|2016|    5|20.0|        6.0|       0.0|22.0|1.2328506623826692|\n",
      "|      1.0|            1.0|          1.1|         -74.001|         40.736|      1.0|          0.0|          -74.002|          40.726|        6.5|      424|2016|    1|31.0|        1.0|       1.0| 2.0|1.1317123276807755|\n",
      "|      1.0|            1.0|          1.1|         -74.001|         40.762|      1.0|          0.0|          -74.008|           40.75|        6.5|      340|2016|    5|20.0|        6.0|       0.0|17.0|1.4743244885527342|\n",
      "|      1.0|            1.0|          1.1|         -73.999|         40.755|      1.0|          0.0|        -73.98701|          40.762|        6.0|      274|2016|    1|31.0|        1.0|       1.0| 8.0|1.3359374639273744|\n",
      "|      1.0|            1.0|          1.1|         -73.997|      40.718998|      1.0|          0.0|           -73.99|          40.734|        7.0|      446|2016|    6|10.0|        6.0|       0.0| 7.0| 1.775708274013846|\n",
      "|      1.0|            1.0|          1.1|      -73.993996|         40.742|      1.0|          0.0|          -73.983|          40.754|        6.0|      324|2016|    5|14.0|        7.0|       1.0|11.0|1.6656950143709601|\n",
      "|      1.0|            1.0|          1.1|      -73.993996|      40.746002|      1.0|          0.0|       -73.979004|          40.737|        6.0|      268|2016|    1|31.0|        1.0|       1.0|23.0|1.6209981920193612|\n",
      "|      1.0|            1.0|          1.1|      -73.993996|         40.751|      1.0|          0.0|          -74.007|          40.751|        8.5|      689|2016|    5|10.0|        3.0|       0.0|13.0| 1.044999437446235|\n",
      "|      1.0|            1.0|          1.1|      -73.993996|         40.762|      1.0|          0.0|          -73.981|          40.768|        6.0|      314|2016|    5|17.0|        3.0|       0.0| 0.0| 1.303611175151902|\n",
      "|      1.0|            1.0|          1.1|         -73.992|         40.768|      1.0|          0.0|          -73.975|          40.762|        9.0|      738|2016|    5| 9.0|        2.0|       0.0|18.0|1.6353173789005382|\n",
      "|      1.0|            1.0|          1.1|         -73.991|          40.75|      1.0|          0.0|           -73.98|          40.761|        8.0|      627|2016|    1|20.0|        4.0|       0.0|10.0| 1.506396959123973|\n",
      "|      1.0|            1.0|          1.1|         -73.991|          40.75|      1.0|          0.0|       -73.977005|       40.745003|       11.0|      983|2016|    1|20.0|        4.0|       0.0|13.0|1.3341838354378335|\n",
      "|      1.0|            1.0|          1.1|          -73.99|         40.752|      1.0|          0.0|          -73.981|       40.745003|        9.0|      731|2016|    6| 2.0|        5.0|       0.0|22.0|1.1417277156114831|\n",
      "|      1.0|            1.0|          1.1|          -73.99|         40.757|      1.0|          0.0|          -73.982|          40.773|        7.0|      453|2016|    5|15.0|        1.0|       1.0|11.0|1.8753890088674166|\n",
      "|      1.0|            1.0|          1.1|       -73.98701|         40.734|      1.0|          0.0|       -73.994995|       40.744003|        7.0|      460|2016|    5|18.0|        4.0|       0.0| 7.0|1.3207931485431146|\n",
      "|      1.0|            1.0|          1.1|       -73.98701|         40.756|      1.0|          0.0|          -73.972|          40.754|        6.5|      425|2016|    5|10.0|        3.0|       0.0| 7.0|1.3077265002982672|\n",
      "|      1.0|            1.0|          1.1|         -73.986|         40.735|      1.0|          0.0|        -73.98801|          40.723|        9.5|      808|2016|    5|21.0|        7.0|       1.0|18.0|1.3815104895947452|\n",
      "+---------+---------------+-------------+----------------+---------------+---------+-------------+-----------------+----------------+-----------+---------+----+-----+----+-----------+----------+----+------------------+\n",
      "only showing top 20 rows\n",
      "\n"
     ]
    }
   ],
   "source": [
    "df.show"
   ]
  },
  {
   "cell_type": "code",
   "execution_count": 6,
   "metadata": {
    "autoscroll": "auto"
   },
   "outputs": [
    {
     "data": {
      "application/vnd.jupyter.widget-view+json": {
       "model_id": "122cd95ac331457f81e1f37b5b567dae",
       "version_major": 2,
       "version_minor": 0
      },
      "text/plain": [
       "VBox()"
      ]
     },
     "metadata": {},
     "output_type": "display_data"
    },
    {
     "data": {
      "application/vnd.jupyter.widget-view+json": {
       "model_id": "",
       "version_major": 2,
       "version_minor": 0
      },
      "text/plain": [
       "FloatProgress(value=0.0, bar_style='info', description='Progress:', layout=Layout(height='25px', width='50%'),…"
      ]
     },
     "metadata": {},
     "output_type": "display_data"
    },
    {
     "name": "stdout",
     "output_type": "stream",
     "text": [
      "dropUseless: (dataFrame: org.apache.spark.sql.DataFrame)org.apache.spark.sql.DataFrame\n"
     ]
    }
   ],
   "source": [
    "def dropUseless(dataFrame: DataFrame): DataFrame = {\n",
    "    dataFrame.drop(\n",
    "      \"year\",\n",
    "      \"passenger_count\",\n",
    "      \"month\",\n",
    "      \"vendor_id\",\n",
    "      \"is_weekend\",\n",
    "      \"trip_distance\",\n",
    "      \"store_and_fwd\")\n",
    "  }\n"
   ]
  },
  {
   "cell_type": "code",
   "execution_count": 7,
   "metadata": {
    "autoscroll": "auto"
   },
   "outputs": [
    {
     "data": {
      "application/vnd.jupyter.widget-view+json": {
       "model_id": "e63430e2bae9463996609a49db949bf5",
       "version_major": 2,
       "version_minor": 0
      },
      "text/plain": [
       "VBox()"
      ]
     },
     "metadata": {},
     "output_type": "display_data"
    },
    {
     "data": {
      "application/vnd.jupyter.widget-view+json": {
       "model_id": "",
       "version_major": 2,
       "version_minor": 0
      },
      "text/plain": [
       "FloatProgress(value=0.0, bar_style='info', description='Progress:', layout=Layout(height='25px', width='50%'),…"
      ]
     },
     "metadata": {},
     "output_type": "display_data"
    },
    {
     "name": "stdout",
     "output_type": "stream",
     "text": [
      "tdf: org.apache.spark.sql.DataFrame = [pickup_longitude: float, pickup_latitude: float ... 9 more fields]\n"
     ]
    }
   ],
   "source": [
    "var tdf = dropUseless(df)"
   ]
  },
  {
   "cell_type": "code",
   "execution_count": 8,
   "metadata": {
    "autoscroll": "auto"
   },
   "outputs": [
    {
     "data": {
      "application/vnd.jupyter.widget-view+json": {
       "model_id": "597a1bb2c497452fbcc9482bbda7dc3d",
       "version_major": 2,
       "version_minor": 0
      },
      "text/plain": [
       "VBox()"
      ]
     },
     "metadata": {},
     "output_type": "display_data"
    },
    {
     "data": {
      "application/vnd.jupyter.widget-view+json": {
       "model_id": "",
       "version_major": 2,
       "version_minor": 0
      },
      "text/plain": [
       "FloatProgress(value=0.0, bar_style='info', description='Progress:', layout=Layout(height='25px', width='50%'),…"
      ]
     },
     "metadata": {},
     "output_type": "display_data"
    },
    {
     "name": "stdout",
     "output_type": "stream",
     "text": [
      "res2: org.apache.spark.sql.Dataset[org.apache.spark.sql.Row] = [pickup_longitude: float, pickup_latitude: float ... 9 more fields]\n"
     ]
    }
   ],
   "source": [
    "tdf.cache\n",
    "tdf.createOrReplaceTempView(\"taxi\")\n",
    "spark.catalog.cacheTable(\"taxi\")"
   ]
  },
  {
   "cell_type": "code",
   "execution_count": 9,
   "metadata": {
    "autoscroll": "auto"
   },
   "outputs": [
    {
     "data": {
      "application/vnd.jupyter.widget-view+json": {
       "model_id": "b790d127e6e4441a8d4661705a6c5dfd",
       "version_major": 2,
       "version_minor": 0
      },
      "text/plain": [
       "VBox()"
      ]
     },
     "metadata": {},
     "output_type": "display_data"
    },
    {
     "data": {
      "application/vnd.jupyter.widget-view+json": {
       "model_id": "",
       "version_major": 2,
       "version_minor": 0
      },
      "text/plain": [
       "FloatProgress(value=0.0, bar_style='info', description='Progress:', layout=Layout(height='25px', width='50%'),…"
      ]
     },
     "metadata": {},
     "output_type": "display_data"
    },
    {
     "name": "stdout",
     "output_type": "stream",
     "text": [
      "+-------+------------------+------------------+-----------------+\n",
      "|summary|        h_distance|       fare_amount|        trip_time|\n",
      "+-------+------------------+------------------+-----------------+\n",
      "|  count|             29413|             29413|            29413|\n",
      "|   mean| 4.326592293617547|15.115734539162325|1005.094108047462|\n",
      "| stddev|4.1461764497000955|10.568815892745402|657.1706875514186|\n",
      "|    min|1.0007950502042966|               2.5|              133|\n",
      "|    max| 40.37790919118657|              97.0|            14476|\n",
      "+-------+------------------+------------------+-----------------+\n",
      "\n"
     ]
    }
   ],
   "source": [
    "tdf.select(\"h_distance\",\"fare_amount\",\"trip_time\").describe().show"
   ]
  },
  {
   "cell_type": "code",
   "execution_count": 36,
   "metadata": {},
   "outputs": [
    {
     "name": "stderr",
     "output_type": "stream",
     "text": [
      "An error was encountered:\n",
      "Invalid status code '404' from http://localhost:8998/sessions/0 with error payload: {\"msg\":\"Session '0' not found.\"}\n"
     ]
    }
   ],
   "source": [
    "%%sql\n",
    "select hour, avg(fare_amount)\n",
    "from taxi\n",
    "group by hour order by hour "
   ]
  },
  {
   "cell_type": "code",
   "execution_count": 37,
   "metadata": {},
   "outputs": [
    {
     "data": {
      "application/vnd.jupyter.widget-view+json": {
       "model_id": "75e0ab21463c41d5b1c45da2e36a9bca",
       "version_major": 2,
       "version_minor": 0
      },
      "text/plain": [
       "VBox()"
      ]
     },
     "metadata": {},
     "output_type": "display_data"
    },
    {
     "name": "stderr",
     "output_type": "stream",
     "text": [
      "An error was encountered:\n",
      "Invalid status code '404' from http://localhost:8998/sessions/0 with error payload: {\"msg\":\"Session '0' not found.\"}\n"
     ]
    }
   ],
   "source": [
    "tdf.groupBy(\"hour\").avg(\"fare_amount\", \"h_distance\").orderBy(\"hour\").show(24)"
   ]
  },
  {
   "cell_type": "code",
   "execution_count": 34,
   "metadata": {},
   "outputs": [
    {
     "data": {
      "application/vnd.jupyter.widget-view+json": {
       "model_id": "",
       "version_major": 2,
       "version_minor": 0
      },
      "text/plain": [
       "FloatProgress(value=0.0, bar_style='info', description='Progress:', layout=Layout(height='25px', width='50%'),…"
      ]
     },
     "metadata": {},
     "output_type": "display_data"
    },
    {
     "data": {
      "application/vnd.jupyter.widget-view+json": {
       "model_id": "e20823ae2f6a43fc9bfc7618f767ce3b",
       "version_major": 2,
       "version_minor": 0
      },
      "text/plain": [
       "VBox(children=(HBox(children=(HTML(value='Type:'), Button(description='Table', layout=Layout(width='70px'), st…"
      ]
     },
     "metadata": {},
     "output_type": "display_data"
    },
    {
     "data": {
      "application/vnd.jupyter.widget-view+json": {
       "model_id": "fea9d9d068964739b56f068c62f1d147",
       "version_major": 2,
       "version_minor": 0
      },
      "text/plain": [
       "Output()"
      ]
     },
     "metadata": {},
     "output_type": "display_data"
    }
   ],
   "source": [
    "%%sql \n",
    "select trip_time from taxi"
   ]
  },
  {
   "cell_type": "code",
   "execution_count": 12,
   "metadata": {
    "autoscroll": "auto"
   },
   "outputs": [
    {
     "data": {
      "application/vnd.jupyter.widget-view+json": {
       "model_id": "9fc54a1f61ed4f769032c189d6529bb2",
       "version_major": 2,
       "version_minor": 0
      },
      "text/plain": [
       "VBox()"
      ]
     },
     "metadata": {},
     "output_type": "display_data"
    },
    {
     "data": {
      "application/vnd.jupyter.widget-view+json": {
       "model_id": "",
       "version_major": 2,
       "version_minor": 0
      },
      "text/plain": [
       "FloatProgress(value=0.0, bar_style='info', description='Progress:', layout=Layout(height='25px', width='50%'),…"
      ]
     },
     "metadata": {},
     "output_type": "display_data"
    },
    {
     "name": "stdout",
     "output_type": "stream",
     "text": [
      "featureNames: Array[String] = Array(h_distance, pickup_longitude, pickup_latitude, dropoff_longitude, dropoff_latitude, rate_code, hour, day_of_week, trip_time)\n"
     ]
    }
   ],
   "source": [
    "var featureNames = Array(\"h_distance\", \"pickup_longitude\",\"pickup_latitude\",\"dropoff_longitude\", \"dropoff_latitude\",\"rate_code\",\"hour\", \"day_of_week\",\"trip_time\")\n"
   ]
  },
  {
   "cell_type": "code",
   "execution_count": 13,
   "metadata": {},
   "outputs": [
    {
     "data": {
      "application/vnd.jupyter.widget-view+json": {
       "model_id": "80bc8967b50246648b1e960e016a9c43",
       "version_major": 2,
       "version_minor": 0
      },
      "text/plain": [
       "VBox()"
      ]
     },
     "metadata": {},
     "output_type": "display_data"
    },
    {
     "data": {
      "application/vnd.jupyter.widget-view+json": {
       "model_id": "",
       "version_major": 2,
       "version_minor": 0
      },
      "text/plain": [
       "FloatProgress(value=0.0, bar_style='info', description='Progress:', layout=Layout(height='25px', width='50%'),…"
      ]
     },
     "metadata": {},
     "output_type": "display_data"
    },
    {
     "name": "stdout",
     "output_type": "stream",
     "text": [
      "traindf: org.apache.spark.sql.Dataset[org.apache.spark.sql.Row] = [pickup_longitude: float, pickup_latitude: float ... 9 more fields]\n",
      "evaldf: org.apache.spark.sql.Dataset[org.apache.spark.sql.Row] = [pickup_longitude: float, pickup_latitude: float ... 9 more fields]\n",
      "+----------------+---------------+---------+-----------------+----------------+-----------+---------+----+-----------+----+------------------+\n",
      "|pickup_longitude|pickup_latitude|rate_code|dropoff_longitude|dropoff_latitude|fare_amount|trip_time| day|day_of_week|hour|        h_distance|\n",
      "+----------------+---------------+---------+-----------------+----------------+-----------+---------+----+-----------+----+------------------+\n",
      "|      -74.034996|      40.615997|      1.0|           -73.97|          40.751|       41.5|     2186|25.0|        5.0|20.0|15.989421723650755|\n",
      "|         -74.029|      40.622997|      1.0|        -73.91901|          40.769|       48.0|     2191|20.0|        7.0|20.0| 18.74339347011618|\n",
      "|      -74.020996|         40.647|      1.0|       -73.949005|       40.652996|       30.0|     2866|15.0|        4.0|17.0|6.1269112868110405|\n",
      "|      -74.018005|         40.705|      1.0|       -73.995995|          40.753|       17.0|     1194|18.0|        7.0|20.0|5.6457364684082805|\n",
      "|      -74.018005|         40.705|      1.0|          -73.974|          40.726|       14.5|      796| 6.0|        6.0|17.0| 4.306791432499751|\n",
      "|      -74.018005|         40.705|      1.0|          -73.971|          40.752|       17.5|      671| 6.0|        7.0|23.0| 6.506934982207867|\n",
      "|      -74.018005|         40.706|      1.0|          -74.011|          40.715|        7.0|      487|25.0|        2.0| 8.0|1.1608574551480328|\n",
      "|      -74.018005|         40.706|      1.0|          -74.001|          40.729|       10.0|      712|10.0|        3.0|21.0|2.8669523001320565|\n",
      "|      -74.018005|         40.706|      1.0|          -73.975|          40.759|       27.5|     1851|24.0|        5.0| 9.0|  6.89667543732087|\n",
      "|      -74.018005|          40.71|      1.0|          -74.008|       40.724003|        9.0|      714| 6.0|        4.0| 9.0|1.8466621969984036|\n",
      "|      -74.017006|         40.705|      1.0|          -74.007|       40.725002|        9.0|      518|23.0|        2.0|22.0| 2.441067213114205|\n",
      "|      -74.017006|         40.705|      1.0|          -74.003|          40.721|        7.0|      366|31.0|        1.0| 9.0| 2.121910034487607|\n",
      "|      -74.017006|         40.705|      1.0|       -73.995995|          40.716|        9.0|      606|27.0|        1.0|14.0| 2.136736290200805|\n",
      "|      -74.017006|         40.705|      1.0|          -73.986|          40.758|       21.0|     1587| 4.0|        2.0|10.0| 6.377372001664019|\n",
      "|      -74.017006|         40.705|      1.0|          -73.985|          40.751|       22.0|     1497|29.0|        1.0|16.0| 5.803548073815706|\n",
      "|      -74.017006|         40.705|      1.0|          -73.984|       40.691998|       14.5|     1169| 5.0|        3.0|20.0|3.0934079774405974|\n",
      "|      -74.017006|         40.705|      1.0|          -73.981|          40.769|       27.0|     1854|28.0|        3.0|17.0|  7.77084692629478|\n",
      "|      -74.017006|         40.705|      1.0|          -73.981|       40.787003|       21.5|     1125| 3.0|        5.0|20.0|  9.61463372530471|\n",
      "|      -74.017006|         40.705|      1.0|       -73.979004|          40.758|       22.0|     1070|19.0|        1.0|10.0| 6.724253884703728|\n",
      "|      -74.017006|         40.705|      1.0|          -73.956|          40.775|       24.0|     1285| 3.0|        1.0|19.0| 9.364455453031194|\n",
      "+----------------+---------------+---------+-----------------+----------------+-----------+---------+----+-----------+----+------------------+\n",
      "only showing top 20 rows\n",
      "\n"
     ]
    }
   ],
   "source": [
    "val Array(traindf, evaldf) = tdf.randomSplit(Array(0.7, 0.3), 5043)\n",
    "traindf.show"
   ]
  },
  {
   "cell_type": "code",
   "execution_count": 17,
   "metadata": {
    "autoscroll": "auto"
   },
   "outputs": [
    {
     "data": {
      "application/vnd.jupyter.widget-view+json": {
       "model_id": "7ed1abb1f43346f985934885f58c577a",
       "version_major": 2,
       "version_minor": 0
      },
      "text/plain": [
       "VBox()"
      ]
     },
     "metadata": {},
     "output_type": "display_data"
    },
    {
     "data": {
      "application/vnd.jupyter.widget-view+json": {
       "model_id": "",
       "version_major": 2,
       "version_minor": 0
      },
      "text/plain": [
       "FloatProgress(value=0.0, bar_style='info', description='Progress:', layout=Layout(height='25px', width='50%'),…"
      ]
     },
     "metadata": {},
     "output_type": "display_data"
    },
    {
     "name": "stdout",
     "output_type": "stream",
     "text": [
      "labelColName: String = fare_amount\n",
      "featureNames: Array[String] = Array(h_distance, pickup_longitude, pickup_latitude, dropoff_longitude, dropoff_latitude, rate_code, hour, day_of_week, trip_time)\n",
      "regressorParam: scala.collection.immutable.Map[String,Any] = Map(learning_rate -> 0.05, subsample -> 0.8, max_depth -> 8, objective -> reg:gamma, num_round -> 100, tree_method -> gpu_hist, gamma -> 1)\n",
      "regressor: ml.dmlc.xgboost4j.scala.spark.XGBoostRegressor = xgbr_4be32fc7673f\n",
      "paramGrid: Array[org.apache.spark.ml.param.ParamMap] =\n",
      "Array({\n",
      "\txgbr_4be32fc7673f-eta: 0.2,\n",
      "\txgbr_4be32fc7673f-maxDepth: 3\n",
      "}, {\n",
      "\txgbr_4be32fc7673f-eta: 0.6,\n",
      "\txgbr_4be32fc7673f-maxDepth: 3\n",
      "}, {\n",
      "\txgbr_4be32fc7673f-eta: 0.2,\n",
      "\txgbr_4be32fc7673f-maxDepth: 8\n",
      "}, {\n",
      "\txgbr_4be32fc7673f-eta: 0.6,\n",
      "\txgbr_4be32fc7673f-maxDepth: 8\n",
      "})\n",
      "evaluator: org.apache.spark.ml.evaluation.RegressionEvaluator = RegressionEvaluator: uid=regEval_300a39d8d2b0, metricName=rmse, throughOrigin=false\n",
      "cv: ml.dmlc.xgboost4j.scala.spark.rapids.CrossValidator = cv_0dd335ee52c8\n",
      "res24: String =\n",
      "alpha: L1 regularization term on weights, increase this value will make model more conservative. (default: 0.0)\n",
      "baseMarginCol: Initial prediction (aka base margin) column name. (undefined)\n",
      "baseScore: the initial prediction score of all instances, global bias (default: 0.5)\n",
      "buildAllColumnsInTransform: whether building all columns when transform. when set to false, only columns with numeric type can be built. Defaut to true (default: true)\n",
      "cacheTrainingSet: whether caching training data (default: false)\n",
      "checkpointInterval: set checkpoint interval (>= 1) or disable checkpoint (-1). E.g. 10 means that the trained model will get checkpointed every 10 iterations. Note: `checkpoint_path` must also be set if the checkpoint interval is greater than 0. (default: -1)\n",
      "checkpointPath...\n"
     ]
    }
   ],
   "source": [
    "val labelColName = \"fare_amount\"\n",
    "\n",
    "var featureNames = Array(\"h_distance\", \"pickup_longitude\",\"pickup_latitude\",\"dropoff_longitude\", \"dropoff_latitude\",\"rate_code\",\"hour\", \"day_of_week\",\"trip_time\")\n",
    "\n",
    "val regressorParam = Map(\n",
    "    \"learning_rate\" -> 0.05,\n",
    "    \"gamma\" -> 1,\n",
    "    \"objective\" ->\"reg:gamma\",\n",
    "    \"max_depth\" -> 8,\n",
    "    \"subsample\" -> 0.8,\n",
    "    \"num_round\" -> 100,\n",
    "    \"tree_method\" -> \"gpu_hist\")\n",
    "\n",
    "\n",
    "val regressor = new XGBoostRegressor(regressorParam).setLabelCol(labelColName).setFeaturesCols(featureNames)\n",
    "\n",
    "val paramGrid = new ParamGridBuilder().addGrid(regressor.maxDepth, Array(3, 8)).addGrid(regressor.eta, Array(0.2, 0.6)).build()\n",
    "\n",
    "val evaluator = new RegressionEvaluator().setLabelCol(labelColName)\n",
    "val cv = new CrossValidator().setEstimator(regressor).setEvaluator(evaluator).setEstimatorParamMaps(paramGrid).setNumFolds(3)\n",
    "\n",
    "regressor.explainParams()\n",
    "\n"
   ]
  },
  {
   "cell_type": "code",
   "execution_count": 18,
   "metadata": {
    "autoscroll": "auto"
   },
   "outputs": [
    {
     "data": {
      "application/vnd.jupyter.widget-view+json": {
       "model_id": "3b16d9e63100403691346b622cadc1a0",
       "version_major": 2,
       "version_minor": 0
      },
      "text/plain": [
       "VBox()"
      ]
     },
     "metadata": {},
     "output_type": "display_data"
    },
    {
     "data": {
      "application/vnd.jupyter.widget-view+json": {
       "model_id": "",
       "version_major": 2,
       "version_minor": 0
      },
      "text/plain": [
       "FloatProgress(value=0.0, bar_style='info', description='Progress:', layout=Layout(height='25px', width='50%'),…"
      ]
     },
     "metadata": {},
     "output_type": "display_data"
    },
    {
     "name": "stdout",
     "output_type": "stream",
     "text": [
      "cvmodel: org.apache.spark.ml.tuning.CrossValidatorModel = CrossValidatorModel: uid=cv_0dd335ee52c8, bestModel=xgbr_4be32fc7673f, numFolds=3\n"
     ]
    }
   ],
   "source": [
    "val cvmodel = cv.fit(traindf)"
   ]
  },
  {
   "cell_type": "code",
   "execution_count": 19,
   "metadata": {},
   "outputs": [
    {
     "data": {
      "application/vnd.jupyter.widget-view+json": {
       "model_id": "7b4d082c137d40d09d27b5fcbf04e214",
       "version_major": 2,
       "version_minor": 0
      },
      "text/plain": [
       "VBox()"
      ]
     },
     "metadata": {},
     "output_type": "display_data"
    },
    {
     "data": {
      "application/vnd.jupyter.widget-view+json": {
       "model_id": "",
       "version_major": 2,
       "version_minor": 0
      },
      "text/plain": [
       "FloatProgress(value=0.0, bar_style='info', description='Progress:', layout=Layout(height='25px', width='50%'),…"
      ]
     },
     "metadata": {},
     "output_type": "display_data"
    },
    {
     "name": "stdout",
     "output_type": "stream",
     "text": [
      "model: ml.dmlc.xgboost4j.scala.spark.XGBoostRegressionModel = xgbr_4be32fc7673f\n",
      "res25: Array[(org.apache.spark.ml.param.ParamMap, Double)] =\n",
      "Array(({\n",
      "\txgbr_4be32fc7673f-eta: 0.2,\n",
      "\txgbr_4be32fc7673f-maxDepth: 3\n",
      "},2.171293916330036), ({\n",
      "\txgbr_4be32fc7673f-eta: 0.6,\n",
      "\txgbr_4be32fc7673f-maxDepth: 3\n",
      "},2.2360314763770623), ({\n",
      "\txgbr_4be32fc7673f-eta: 0.2,\n",
      "\txgbr_4be32fc7673f-maxDepth: 8\n",
      "},2.111866299838413), ({\n",
      "\txgbr_4be32fc7673f-eta: 0.6,\n",
      "\txgbr_4be32fc7673f-maxDepth: 8\n",
      "},2.3810327150036827))\n",
      "res26: org.apache.spark.ml.param.ParamMap =\n",
      "{\n",
      "\txgbr_4be32fc7673f-alpha: 0.0,\n",
      "\txgbr_4be32fc7673f-baseScore: 0.5,\n",
      "\txgbr_4be32fc7673f-batchSize: 32768,\n",
      "\txgbr_4be32fc7673f-buildAllColumnsInTransform: true,\n",
      "\txgbr_4be32fc7673f-cacheTrainingSet: false,\n",
      "\txgbr_4be32fc7673f-checkpointInterval: -1,\n",
      "\txgbr_4be32fc7673f-checkpointPath: ,\n",
      "\txgbr_4be32fc7673f-colsampleBylevel: 1.0,\n",
      "\txgbr_4be32fc7673f-colsampleBytree: 1.0,\n",
      "\txgbr_4be32fc7673f-customEval: null,\n",
      "\txgbr_4be32fc7673f-customObj: null,\n",
      "\txgbr_4be32fc7673f-eta: 0.2,\n",
      "\txgbr_4be32fc7673f-evalMetric: rmse,\n",
      "\txgbr_4be32fc7673f-featuresCol: features,\n",
      "\txgbr_4be32fc7673f-featuresCols: WrappedArray(h_distance, pickup_longitude, pickup_latitude, dropoff_longitude, dropoff_latitude, rate_code, hour, day_of_week, trip_time),\n",
      "\txgbr_4be32fc7673f-gamma: 1.0,\n",
      "\txgb...\n"
     ]
    }
   ],
   "source": [
    "val model = cvmodel.bestModel.asInstanceOf[XGBoostRegressionModel]\n",
    "cvmodel.getEstimatorParamMaps.zip(cvmodel.avgMetrics)\n",
    "model.extractParamMap()"
   ]
  },
  {
   "cell_type": "code",
   "execution_count": 20,
   "metadata": {},
   "outputs": [
    {
     "data": {
      "application/vnd.jupyter.widget-view+json": {
       "model_id": "1688b71b029741b3868583c806bea606",
       "version_major": 2,
       "version_minor": 0
      },
      "text/plain": [
       "VBox()"
      ]
     },
     "metadata": {},
     "output_type": "display_data"
    },
    {
     "data": {
      "application/vnd.jupyter.widget-view+json": {
       "model_id": "",
       "version_major": 2,
       "version_minor": 0
      },
      "text/plain": [
       "FloatProgress(value=0.0, bar_style='info', description='Progress:', layout=Layout(height='25px', width='50%'),…"
      ]
     },
     "metadata": {},
     "output_type": "display_data"
    },
    {
     "name": "stdout",
     "output_type": "stream",
     "text": [
      "pdf: org.apache.spark.sql.Dataset[org.apache.spark.sql.Row] = [pickup_longitude: float, pickup_latitude: float ... 10 more fields]\n",
      "+-------+------------------+------------------+\n",
      "|summary|       fare_amount|        prediction|\n",
      "+-------+------------------+------------------+\n",
      "|  count|              9016|              9016|\n",
      "|   mean|  15.1896628216504| 15.14138584599203|\n",
      "| stddev|10.615080872910664|10.419272301100078|\n",
      "|    min|               2.5| 5.163010120391846|\n",
      "|    max|              97.0|    80.55908203125|\n",
      "+-------+------------------+------------------+\n",
      "\n"
     ]
    }
   ],
   "source": [
    "val pdf = model.transform(evaldf).cache()\n",
    "pdf.select(\"fare_amount\", \"prediction\").describe().show()"
   ]
  },
  {
   "cell_type": "code",
   "execution_count": 21,
   "metadata": {},
   "outputs": [
    {
     "data": {
      "application/vnd.jupyter.widget-view+json": {
       "model_id": "a574f65a1b7f4c4f844284e1566fbf61",
       "version_major": 2,
       "version_minor": 0
      },
      "text/plain": [
       "VBox()"
      ]
     },
     "metadata": {},
     "output_type": "display_data"
    },
    {
     "data": {
      "application/vnd.jupyter.widget-view+json": {
       "model_id": "",
       "version_major": 2,
       "version_minor": 0
      },
      "text/plain": [
       "FloatProgress(value=0.0, bar_style='info', description='Progress:', layout=Layout(height='25px', width='50%'),…"
      ]
     },
     "metadata": {},
     "output_type": "display_data"
    },
    {
     "name": "stdout",
     "output_type": "stream",
     "text": [
      "evaluator: org.apache.spark.ml.evaluation.RegressionEvaluator = RegressionEvaluator: uid=regEval_d8aba078c9b8, metricName=rmse, throughOrigin=false\n",
      "rmse: Double = 2.0713523161267724\n",
      "RMSE is 2.0713523161267724\n"
     ]
    }
   ],
   "source": [
    "val evaluator = new RegressionEvaluator().setLabelCol(labelColName)\n",
    "val rmse = evaluator.evaluate(pdf)\n",
    "println(s\"RMSE is $rmse\")"
   ]
  },
  {
   "cell_type": "code",
   "execution_count": 22,
   "metadata": {},
   "outputs": [
    {
     "data": {
      "application/vnd.jupyter.widget-view+json": {
       "model_id": "8d5230f52f4c4eae84b0ab86effb15eb",
       "version_major": 2,
       "version_minor": 0
      },
      "text/plain": [
       "VBox()"
      ]
     },
     "metadata": {},
     "output_type": "display_data"
    },
    {
     "data": {
      "application/vnd.jupyter.widget-view+json": {
       "model_id": "",
       "version_major": 2,
       "version_minor": 0
      },
      "text/plain": [
       "FloatProgress(value=0.0, bar_style='info', description='Progress:', layout=Layout(height='25px', width='50%'),…"
      ]
     },
     "metadata": {},
     "output_type": "display_data"
    },
    {
     "name": "stdout",
     "output_type": "stream",
     "text": [
      "r2: Double = 0.9619188981396372\n"
     ]
    }
   ],
   "source": [
    "val r2 = evaluator.setMetricName(\"r2\").evaluate(pdf)"
   ]
  },
  {
   "cell_type": "code",
   "execution_count": 26,
   "metadata": {},
   "outputs": [
    {
     "data": {
      "application/vnd.jupyter.widget-view+json": {
       "model_id": "ff949bea3786445b88452ac98d4acfaa",
       "version_major": 2,
       "version_minor": 0
      },
      "text/plain": [
       "VBox()"
      ]
     },
     "metadata": {},
     "output_type": "display_data"
    },
    {
     "data": {
      "application/vnd.jupyter.widget-view+json": {
       "model_id": "",
       "version_major": 2,
       "version_minor": 0
      },
      "text/plain": [
       "FloatProgress(value=0.0, bar_style='info', description='Progress:', layout=Layout(height='25px', width='50%'),…"
      ]
     },
     "metadata": {},
     "output_type": "display_data"
    },
    {
     "name": "stdout",
     "output_type": "stream",
     "text": [
      "predictions: org.apache.spark.sql.DataFrame = [pickup_longitude: float, pickup_latitude: float ... 11 more fields]\n",
      "avgFare: Double = 15.115734539162325\n",
      "predictions: org.apache.spark.sql.DataFrame = [pickup_longitude: float, pickup_latitude: float ... 12 more fields]\n",
      "regressionMeanEvaluator: org.apache.spark.ml.evaluation.RegressionEvaluator = RegressionEvaluator: uid=regEval_667cc91ea3de, metricName=rmse, throughOrigin=false\n",
      "rmsep: Double = 10.61474962277036\n"
     ]
    }
   ],
   "source": [
    "var predictions = pdf.withColumn(\"error\", $\"prediction\" - $\"fare_amount\")\n",
    "val avgFare = tdf.select(avg(\"fare_amount\")).first().getDouble(0)\n",
    "predictions = predictions.withColumn(\"avgPrediction\", lit(avgFare))\n",
    "val regressionMeanEvaluator = new RegressionEvaluator().setPredictionCol(\"avgPrediction\").setLabelCol(\"fare_amount\").setMetricName(\"rmse\")\n",
    "\n",
    "val rmsep = regressionMeanEvaluator.evaluate(predictions)"
   ]
  },
  {
   "cell_type": "code",
   "execution_count": 27,
   "metadata": {},
   "outputs": [
    {
     "data": {
      "application/vnd.jupyter.widget-view+json": {
       "model_id": "4ff6a049d33c422ba63b87a40a82abcc",
       "version_major": 2,
       "version_minor": 0
      },
      "text/plain": [
       "VBox()"
      ]
     },
     "metadata": {},
     "output_type": "display_data"
    },
    {
     "data": {
      "application/vnd.jupyter.widget-view+json": {
       "model_id": "",
       "version_major": 2,
       "version_minor": 0
      },
      "text/plain": [
       "FloatProgress(value=0.0, bar_style='info', description='Progress:', layout=Layout(height='25px', width='50%'),…"
      ]
     },
     "metadata": {},
     "output_type": "display_data"
    },
    {
     "name": "stdout",
     "output_type": "stream",
     "text": [
      "df: org.apache.spark.sql.Dataset[org.apache.spark.sql.Row] = [pickup_longitude: float, pickup_latitude: float ... 10 more fields]\n",
      "res30: df.type = [pickup_longitude: float, pickup_latitude: float ... 10 more fields]\n"
     ]
    }
   ],
   "source": [
    "val df=pdf\n",
    "df.cache\n",
    "df.createOrReplaceTempView(\"taxi\")\n"
   ]
  },
  {
   "cell_type": "code",
   "execution_count": 30,
   "metadata": {},
   "outputs": [
    {
     "data": {
      "application/vnd.jupyter.widget-view+json": {
       "model_id": "7931725ace9e41dd87b71642182a29b6",
       "version_major": 2,
       "version_minor": 0
      },
      "text/plain": [
       "VBox()"
      ]
     },
     "metadata": {},
     "output_type": "display_data"
    },
    {
     "data": {
      "application/vnd.jupyter.widget-view+json": {
       "model_id": "",
       "version_major": 2,
       "version_minor": 0
      },
      "text/plain": [
       "FloatProgress(value=0.0, bar_style='info', description='Progress:', layout=Layout(height='25px', width='50%'),…"
      ]
     },
     "metadata": {},
     "output_type": "display_data"
    },
    {
     "name": "stdout",
     "output_type": "stream",
     "text": [
      "+----------------+---------------+---------+-----------------+----------------+-----------+---------+----+-----------+----+------------------+------------------+\n",
      "|pickup_longitude|pickup_latitude|rate_code|dropoff_longitude|dropoff_latitude|fare_amount|trip_time| day|day_of_week|hour|        h_distance|        prediction|\n",
      "+----------------+---------------+---------+-----------------+----------------+-----------+---------+----+-----------+----+------------------+------------------+\n",
      "|      -74.018005|         40.705|      1.0|       -73.995995|          40.759|       14.5|      810|30.0|        2.0|14.0| 6.211866922231748|14.204110145568848|\n",
      "|      -74.018005|         40.708|      1.0|          -73.955|       40.785004|       30.0|     1910|19.0|        5.0|19.0|10.043941644745642|32.801578521728516|\n",
      "|      -74.017006|         40.705|      1.0|          -73.997|       40.725002|       12.0|      928|12.0|        5.0|14.0| 2.800500254046385|12.361300468444824|\n",
      "|      -74.017006|         40.705|      1.0|           -73.99|       40.732998|       15.5|     1099|11.0|        2.0|21.0| 3.879534505964558| 17.51177978515625|\n",
      "|      -74.017006|         40.705|      1.0|           -73.99|          40.742|       17.5|     1224|19.0|        1.0|17.0| 4.649285134657355|16.133146286010742|\n",
      "|      -74.017006|         40.705|      1.0|       -73.989006|          40.731|       17.0|     1449|13.0|        4.0|20.0|3.7138621557334828|17.989362716674805|\n",
      "|      -74.017006|         40.705|      1.0|          -73.986|          40.769|       19.5|     1507|16.0|        7.0|23.0| 7.493056429757401| 19.52042007446289|\n",
      "|      -74.017006|         40.706|      1.0|          -73.976|          40.761|       22.0|     1221| 4.0|        2.0| 7.0|6.9948962520019276|18.552574157714844|\n",
      "|      -74.017006|         40.707|      1.0|           -74.01|          40.731|        8.5|      492|13.0|        2.0|10.0| 2.721608914800288| 8.554922103881836|\n",
      "|      -74.017006|         40.708|      1.0|          -74.011|          40.722|        7.5|      533| 7.0|        3.0| 8.0| 1.606681656443367|7.9353156089782715|\n",
      "|      -74.017006|         40.708|      1.0|          -73.998|          40.738|       12.0|      734|22.0|        3.0| 9.0|3.6487931698483096|11.623469352722168|\n",
      "|      -74.017006|         40.708|      1.0|          -73.976|          40.749|       18.5|      910|18.0|        2.0|11.0| 5.693177107390326|18.129100799560547|\n",
      "|      -74.017006|         40.709|      1.0|          -74.006|          40.706|        8.5|      580|27.0|        4.0| 9.0| 1.026402616195578| 8.339120864868164|\n",
      "|      -74.017006|         40.709|      1.0|          -73.992|          40.742|       17.5|     1381|11.0|        7.0|14.0| 4.209041807094802|17.915082931518555|\n",
      "|      -74.017006|         40.709|      1.0|          -73.991|       40.745003|       15.5|     1116|24.0|        5.0| 9.0| 4.469376747579388| 16.64145851135254|\n",
      "|      -74.017006|         40.709|      1.0|          -73.991|       40.766003|       19.0|     1346|29.0|        2.0|14.0| 6.670337694308131|20.058847427368164|\n",
      "|      -74.017006|         40.709|      1.0|          -73.975|          40.737|       15.5|      704|28.0|        5.0| 7.0|  4.65853353282384|12.798208236694336|\n",
      "|      -74.017006|         40.709|      1.0|          -73.965|          40.772|       26.0|     1764|19.0|        3.0| 7.0| 8.206435712918003| 24.02701187133789|\n",
      "|         -74.016|         40.705|      1.0|       -73.994995|           40.75|       13.5|      649|30.0|        7.0| 4.0| 5.311584530821514|15.716751098632812|\n",
      "|         -74.016|         40.705|      1.0|          -73.983|          40.695|       14.0|     1063|30.0|        2.0|17.0| 2.975818741890217|13.527822494506836|\n",
      "+----------------+---------------+---------+-----------------+----------------+-----------+---------+----+-----------+----+------------------+------------------+\n",
      "only showing top 20 rows\n",
      "\n"
     ]
    }
   ],
   "source": [
    "df.show"
   ]
  },
  {
   "cell_type": "code",
   "execution_count": 31,
   "metadata": {},
   "outputs": [
    {
     "data": {
      "application/vnd.jupyter.widget-view+json": {
       "model_id": "",
       "version_major": 2,
       "version_minor": 0
      },
      "text/plain": [
       "FloatProgress(value=0.0, bar_style='info', description='Progress:', layout=Layout(height='25px', width='50%'),…"
      ]
     },
     "metadata": {},
     "output_type": "display_data"
    },
    {
     "data": {
      "application/vnd.jupyter.widget-view+json": {
       "model_id": "9abaaa3dea3f43e68157ae2514796fce",
       "version_major": 2,
       "version_minor": 0
      },
      "text/plain": [
       "VBox(children=(HBox(children=(HTML(value='Type:'), Button(description='Table', layout=Layout(width='70px'), st…"
      ]
     },
     "metadata": {},
     "output_type": "display_data"
    },
    {
     "data": {
      "application/vnd.jupyter.widget-view+json": {
       "model_id": "c4e765a04ea34808ae880da6cc8a6ddb",
       "version_major": 2,
       "version_minor": 0
      },
      "text/plain": [
       "Output()"
      ]
     },
     "metadata": {},
     "output_type": "display_data"
    }
   ],
   "source": [
    "%%sql\n",
    "select h_distance, avg(fare_amount) from taxi group by h_distance order by h_distance;"
   ]
  },
  {
   "cell_type": "code",
   "execution_count": null,
   "metadata": {},
   "outputs": [],
   "source": []
  }
 ],
 "metadata": {
  "kernelspec": {
   "display_name": "Spark",
   "language": "",
   "name": "sparkkernel"
  },
  "language_info": {
   "codemirror_mode": "text/x-scala",
   "mimetype": "text/x-scala",
   "name": "scala",
   "pygments_lexer": "scala"
  },
  "name": "taxi"
 },
 "nbformat": 4,
 "nbformat_minor": 2
}
