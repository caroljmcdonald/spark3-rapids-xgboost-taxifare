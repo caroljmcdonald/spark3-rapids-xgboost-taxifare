﻿{
  "metadata": {
    "name": "spark3taxiETL",
    "kernelspec": {
      "language": "scala",
      "name": "spark2-scala"
    },
    "language_info": {
      "codemirror_mode": "text/x-scala",
      "file_extension": ".scala",
      "mimetype": "text/x-scala",
      "name": "scala",
      "pygments_lexer": "scala"
    }
  },
  "nbformat": 4,
  "nbformat_minor": 2,
  "cells": [
    {
      "cell_type": "code",
      "execution_count": 0,
      "metadata": {
        "autoscroll": "auto"
      },
      "outputs": [],
      "source": "import org.apache.spark.sql.SparkSession\nimport org.apache.spark.sql.types._\n\nimport org.apache.spark.sql.DataFrame\nimport org.apache.spark.sql.functions._\nimport org.apache.spark.sql.types.FloatType"
    },
    {
      "cell_type": "markdown",
      "metadata": {},
      "source": " \nThis notebook will read NY Taxi data , transform it and save it to parquet format "
    },
    {
      "cell_type": "code",
      "execution_count": 2,
      "metadata": {
        "autoscroll": "auto"
      },
      "outputs": [],
      "source": "\nlazy val schema \u003d\nStructType(Array(\nStructField(\"VendorId\", IntegerType),\nStructField(\"tpep_pickup_datetime\", TimestampType),\nStructField(\"tpep_dropoff_datetime\", TimestampType),\nStructField(\"passenger_count\", IntegerType),\nStructField(\"trip_distance\", FloatType),\nStructField(\"pickup_longitude\", FloatType),\nStructField(\"pickup_latitude\", FloatType),\nStructField(\"RatecodeID\", IntegerType),\nStructField(\"store_and_fwd_flag\", StringType),\nStructField(\"dropoff_longitude\", FloatType),\nStructField(\"dropoff_latitude\", FloatType),\nStructField(\"payment_type\", IntegerType),\nStructField(\"fare_amount\", FloatType),\nStructField(\"extra\", FloatType),\nStructField(\"mta_tax\", FloatType),\nStructField(\"tip_amount\", FloatType),\nStructField(\"tolls_amount\", FloatType),\nStructField(\"improvement_surcharge\", FloatType),\nStructField(\"total_amount\", FloatType) \n  ))"
    },
    {
      "cell_type": "code",
      "execution_count": 3,
      "metadata": {
        "autoscroll": "auto"
      },
      "outputs": [],
      "source": "// Either copy the data to your bucket or read it from the pulic bucket\n// aws: after ssh into master: \n// wget https://s3.amazonaws.com/nyc-tlc/trip+data/yellow_tripdata_2016-02.csv\n// aws s3 cp yellow_tripdata_2016-02.csv s3://mybucket/data/\n\n//var df \u003d spark.read.option(\"inferSchema\", \"false\").option(\"header\", true).schema(schema).csv(\"s3://bucketcjm/data/yellow_tripdata_2016-02.csv\") \n\nvar df \u003d spark.read.option(\"inferSchema\", \"false\").option(\"header\", true).schema(schema).csv(\"s3://nyc-tlc/trip data/yellow_tripdata_2018-01.csv\")"
    },
    {
      "cell_type": "code",
      "execution_count": 4,
      "metadata": {
        "autoscroll": "auto"
      },
      "outputs": [],
      "source": "df.show"
    },
    {
      "cell_type": "code",
      "execution_count": 5,
      "metadata": {
        "autoscroll": "auto"
      },
      "outputs": [],
      "source": "def dropUseless(dataFrame: DataFrame): DataFrame \u003d {\n    dataFrame.drop(\n      \"payment_type\",\n      \"extra\",\n      \"mta_tax\",\n      \"tip_amount\",\n      \"tolls_amount\",\n      \"improvement_surcharge\",\n      \"total_amount\")\n  }"
    },
    {
      "cell_type": "code",
      "execution_count": 6,
      "metadata": {
        "autoscroll": "auto"
      },
      "outputs": [],
      "source": "df \u003d dropUseless(df)"
    },
    {
      "cell_type": "code",
      "execution_count": 7,
      "metadata": {
        "autoscroll": "auto"
      },
      "outputs": [],
      "source": "df \u003d df.withColumnRenamed(\"tpep_pickup_datetime\", \"pickup_datetime\")\ndf \u003d df.withColumnRenamed(\"tpep_dropoff_datetime\", \"dropoff_datetime\")\ndf \u003d df.withColumnRenamed(\"VendorID\", \"vendor_id\")\ndf \u003d df.withColumnRenamed(\"store_and_fwd_flag\", \"store_and_fwd\")\ndf \u003d df.withColumnRenamed(\"RatecodeID\", \"rate_code\")"
    },
    {
      "cell_type": "code",
      "execution_count": 8,
      "metadata": {
        "autoscroll": "auto"
      },
      "outputs": [],
      "source": "z.show (df)"
    },
    {
      "cell_type": "code",
      "execution_count": 9,
      "metadata": {
        "autoscroll": "auto"
      },
      "outputs": [],
      "source": "val start \u003d unix_timestamp(col(\"pickup_datetime\")).cast(LongType)\nval end \u003d unix_timestamp(col(\"dropoff_datetime\")).cast(LongType)\ndf \u003d df.withColumn(\"trip_time\", (end-start))"
    },
    {
      "cell_type": "code",
      "execution_count": 10,
      "metadata": {
        "autoscroll": "auto"
      },
      "outputs": [],
      "source": "// get day of week and hour\nval datetime \u003d col(\"pickup_datetime\")\ndf \u003d df.withColumn(\"year\", year(datetime)).withColumn(\"month\", month(datetime))\n      .withColumn(\"day\", dayofmonth(datetime))\n      .withColumn(\"day_of_week\", dayofweek(datetime))\n      .withColumn(\"is_weekend\",col(\"day_of_week\").isin(1, 7).cast(IntegerType))  // 1: Sunday, 7: Saturday\n      .withColumn(\"hour\", hour(datetime))\n      .drop(\"dropoff_datetime\",\"pickup_datetime\")"
    },
    {
      "cell_type": "code",
      "execution_count": 11,
      "metadata": {
        "autoscroll": "auto"
      },
      "outputs": [],
      "source": "df.schema\n"
    },
    {
      "cell_type": "code",
      "execution_count": 12,
      "metadata": {
        "autoscroll": "auto"
      },
      "outputs": [],
      "source": "// filter out anomalous values\ndf \u003d df.filter(!($\"trip_distance\" \u003c 1 and $\"fare_amount\" \u003e 15 ))\ndf \u003d df.filter(!($\"trip_distance\" \u003c 10 and $\"fare_amount\" \u003e 40 ))\ndf \u003d df.filter($\"trip_distance\" \u003e 0 and $\"trip_distance\" \u003c 100)\ndf \u003d df.filter($\"fare_amount\" \u003e 0 and $\"fare_amount\" \u003c 100)\ndf \u003d df.filter($\"passenger_count\" \u003e 0 and $\"passenger_count\" \u003c 6)\ndf \u003d df.filter($\"pickup_longitude\" \u003e -75 and $\"pickup_longitude\" \u003c -73)\ndf \u003d df.filter($\"dropoff_longitude\" \u003e -75 and $\"dropoff_longitude\" \u003c -73)\ndf \u003d df.filter($\"pickup_latitude\" \u003e 40 and $\"pickup_latitude\" \u003c 42)\ndf \u003d df.filter($\"dropoff_latitude\" \u003e 40 and $\"dropoff_latitude\" \u003c 42)"
    },
    {
      "cell_type": "code",
      "execution_count": 13,
      "metadata": {
        "autoscroll": "auto"
      },
      "outputs": [],
      "source": "df.show"
    },
    {
      "cell_type": "code",
      "execution_count": 14,
      "metadata": {
        "autoscroll": "auto"
      },
      "outputs": [],
      "source": "// filter out anomouslous trip_time values\ndf \u003d df.filter(!($\"trip_time\" \u003c 1000 and $\"fare_amount\" \u003e 40 ))\ndf \u003d df.filter($\"trip_time\" \u003e 10 )\ndf \u003d df.filter($\"trip_time\" \u003c  40000)"
    },
    {
      "cell_type": "code",
      "execution_count": 15,
      "metadata": {
        "autoscroll": "auto"
      },
      "outputs": [],
      "source": "df.show"
    },
    {
      "cell_type": "code",
      "execution_count": 16,
      "metadata": {
        "autoscroll": "auto"
      },
      "outputs": [],
      "source": "// calculate haversine distance  \ndef addHDistance(dataFrame: DataFrame): DataFrame \u003d {\n    val P \u003d math.Pi / 180\n    val lat1 \u003d col(\"pickup_latitude\")\n    val lon1 \u003d col(\"pickup_longitude\")\n    val lat2 \u003d col(\"dropoff_latitude\")\n    val lon2 \u003d col(\"dropoff_longitude\")\n    val internalValue \u003d (lit(0.5)\n      - cos((lat2 - lat1) * P) / 2\n      + cos(lat1 * P) * cos(lat2 * P) * (lit(1) - cos((lon2 - lon1) * P)) / 2)\n    val hDistance \u003d lit(12734) * asin(sqrt(internalValue))\n    dataFrame.withColumn(\"h_distance\", hDistance)\n  }"
    },
    {
      "cell_type": "code",
      "execution_count": 17,
      "metadata": {
        "autoscroll": "auto"
      },
      "outputs": [],
      "source": "df \u003d addHDistance(df)"
    },
    {
      "cell_type": "code",
      "execution_count": 18,
      "metadata": {
        "autoscroll": "auto"
      },
      "outputs": [],
      "source": "df \u003d df.filter(!($\"h_distance\" \u003c 1 and $\"fare_amount\" \u003e15))\ndf \u003d df.filter(!($\"h_distance\" \u003c 10 and $\"fare_amount\" \u003e 40 ))\ndf \u003d df.filter($\"h_distance\" \u003e 1 and $\"h_distance\" \u003c 100)"
    },
    {
      "cell_type": "code",
      "execution_count": 19,
      "metadata": {
        "autoscroll": "auto"
      },
      "outputs": [],
      "source": "// round off location values\ndf \u003d df.withColumn(\"pickup_longitude\", round( df(\"pickup_longitude\"),3)).withColumn(\"pickup_latitude\", round( df(\"pickup_latitude\"),3))\ndf \u003d df.withColumn(\"dropoff_longitude\", round( df(\"dropoff_longitude\"),3)).withColumn(\"dropoff_latitude\", round( df(\"dropoff_latitude\"),3))"
    },
    {
      "cell_type": "code",
      "execution_count": 20,
      "metadata": {
        "autoscroll": "auto"
      },
      "outputs": [],
      "source": "df \u003d df.withColumn(\"h_distance\", round( $\"h_distance\",3))"
    },
    {
      "cell_type": "code",
      "execution_count": 21,
      "metadata": {
        "autoscroll": "auto"
      },
      "outputs": [],
      "source": "df.show"
    },
    {
      "cell_type": "code",
      "execution_count": 22,
      "metadata": {
        "autoscroll": "auto"
      },
      "outputs": [],
      "source": "df.select(\"h_distance\",\"fare_amount\",\"trip_time\").describe().show"
    },
    {
      "cell_type": "code",
      "execution_count": 23,
      "metadata": {
        "autoscroll": "auto"
      },
      "outputs": [],
      "source": "df.schema\n"
    },
    {
      "cell_type": "code",
      "execution_count": 24,
      "metadata": {
        "autoscroll": "auto"
      },
      "outputs": [],
      "source": "df.createOrReplaceTempView(\"taxi\")\n"
    },
    {
      "cell_type": "code",
      "execution_count": 25,
      "metadata": {},
      "outputs": [],
      "source": "%%sql\nselect hour, avg(fare_amount), avg(h_distance)\nfrom taxi\ngroup by hour order by hour"
    },
    {
      "cell_type": "code",
      "execution_count": 26,
      "metadata": {
        "autoscroll": "auto"
      },
      "outputs": [],
      "source": "df.write.mode(\"overwrite\").parquet(\"s3://bucketcjm/data/pyellow_tripdata_2016-02\")\n"
    },
    {
      "cell_type": "code",
      "execution_count": 27,
      "metadata": {
        "autoscroll": "auto"
      },
      "outputs": [],
      "source": "df.unpersist"
    },
    {
      "cell_type": "code",
      "execution_count": 28,
      "metadata": {
        "autoscroll": "auto"
      },
      "outputs": [],
      "source": "var tdf \u003d spark.read.parquet(\"s3://bucketcjm/data/pyellow_tripdata_2016-02\") "
    },
    {
      "cell_type": "code",
      "execution_count": 29,
      "metadata": {
        "autoscroll": "auto"
      },
      "outputs": [],
      "source": "tdf.show"
    },
    {
      "cell_type": "code",
      "execution_count": 30,
      "metadata": {
        "autoscroll": "auto"
      },
      "outputs": [],
      "source": "tdf.cache\ntdf.createOrReplaceTempView(\"taxi\")\nspark.catalog.cacheTable(\"taxi\")"
    },
    {
      "cell_type": "code",
      "execution_count": 31,
      "metadata": {
        "autoscroll": "auto"
      },
      "outputs": [],
      "source": "tdf.select(\"h_distance\",\"fare_amount\",\"trip_time\").describe().show"
    },
    {
      "cell_type": "code",
      "execution_count": 32,
      "metadata": {
        "autoscroll": "auto"
      },
      "outputs": [],
      "source": "tdf.groupBy(\"hour\").avg(\"fare_amount\", \"h_distance\").orderBy(\"hour\").show()"
    },
    {
      "cell_type": "code",
      "execution_count": 33,
      "metadata": {
        "autoscroll": "auto"
      },
      "outputs": [],
      "source": "tdf.groupBy(\"hour\").avg(\"fare_amount\", \"h_distance\").orderBy(\"hour\").explain(\"formatted\")"
    },
    {
      "cell_type": "code",
      "execution_count": 34,
      "metadata": {
        "autoscroll": "auto"
      },
      "outputs": [],
      "source": "val df3 \u003d tdf.groupBy(\"hour\").count\n\ndf3.orderBy(asc(\"hour\"))show(5)"
    },
    {
      "cell_type": "code",
      "execution_count": 35,
      "metadata": {
        "autoscroll": "auto"
      },
      "outputs": [],
      "source": "df3.explain(\"formatted\")"
    },
    {
      "cell_type": "code",
      "execution_count": 36,
      "metadata": {
        "autoscroll": "auto"
      },
      "outputs": [],
      "source": "tdf.groupBy(\"hour\").count.orderBy(\"hour\").show()"
    },
    {
      "cell_type": "code",
      "execution_count": 37,
      "metadata": {},
      "outputs": [],
      "source": "%%sql\nselect * from taxi"
    },
    {
      "cell_type": "code",
      "execution_count": 38,
      "metadata": {},
      "outputs": [],
      "source": "%%sql\nselect trip_distance, rate_code, fare_amount, is_weekend, day_of_week from taxi\n"
    },
    {
      "cell_type": "code",
      "execution_count": 39,
      "metadata": {},
      "outputs": [],
      "source": "%%sql\nselect trip_distance,avg(trip_distance),  avg(fare_amount)\nfrom taxi\ngroup by trip_distance order by avg(trip_distance) desc\n"
    },
    {
      "cell_type": "code",
      "execution_count": 40,
      "metadata": {},
      "outputs": [],
      "source": "%%sql\nselect hour, avg(fare_amount), avg(trip_distance)\nfrom taxi\ngroup by hour order by hour "
    },
    {
      "cell_type": "code",
      "execution_count": 41,
      "metadata": {},
      "outputs": [],
      "source": "%%sql\nselect rate_code, avg(fare_amount) , avg(trip_distance)\nfrom taxi\ngroup by rate_code order by rate_code\n"
    },
    {
      "cell_type": "code",
      "execution_count": 42,
      "metadata": {},
      "outputs": [],
      "source": "%%sql\n"
    }
  ]
}