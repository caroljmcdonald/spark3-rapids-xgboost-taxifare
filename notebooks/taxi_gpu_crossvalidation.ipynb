﻿{
  "metadata": {
    "name": "Spark3XGBoostP",
    "kernelspec": {
      "language": "scala",
      "name": "spark2-scala"
    },
    "language_info": {
      "codemirror_mode": "text/x-scala",
      "file_extension": ".scala",
      "mimetype": "text/x-scala",
      "name": "scala",
      "pygments_lexer": "scala"
    }
  },
  "nbformat": 4,
  "nbformat_minor": 2,
  "cells": [
    {
      "cell_type": "code",
      "execution_count": 0,
      "metadata": {
        "autoscroll": "auto"
      },
      "outputs": [],
      "source": "import ml.dmlc.xgboost4j.scala.spark.{XGBoostRegressionModel, XGBoostRegressor}\nimport org.apache.spark.ml.evaluation.{RegressionEvaluator}\nimport org.apache.spark.ml.tuning.ParamGridBuilder\nimport org.apache.spark.sql.SparkSession\nimport org.apache.spark.sql._\nimport org.apache.spark.sql.functions._\nimport org.apache.spark.sql.types._"
    },
    {
      "cell_type": "code",
      "execution_count": 1,
      "metadata": {
        "autoscroll": "auto"
      },
      "outputs": [],
      "source": "\nval schema \u003d\n    StructType(Array(\n      StructField(\"vendor_id\", FloatType),\n      StructField(\"passenger_count\", FloatType),\n      StructField(\"trip_distance\", FloatType),\n      StructField(\"pickup_longitude\", FloatType),\n      StructField(\"pickup_latitude\", FloatType),\n      StructField(\"rate_code\", FloatType),\n      StructField(\"store_and_fwd\", FloatType),\n      StructField(\"dropoff_longitude\", FloatType),\n      StructField(\"dropoff_latitude\", FloatType),\n      StructField(\"fare_amount\", FloatType),\n      StructField(\"trip_time\",LongType),\n      StructField(\"year\", IntegerType),\n      StructField(\"month\", IntegerType),\n      StructField(\"day\", FloatType),\n      StructField(\"day_of_week\", FloatType),\n      StructField(\"is_weekend\", FloatType),\n      StructField(\"hour\", FloatType),\n      StructField(\"h_distance\",DoubleType)\n    ))"
    },
    {
      "cell_type": "code",
      "execution_count": 2,
      "metadata": {
        "autoscroll": "auto"
      },
      "outputs": [],
      "source": "\nimport ml.dmlc.xgboost4j.scala.spark.rapids.CrossValidator\n"
    },
    {
      "cell_type": "code",
      "execution_count": 3,
      "metadata": {
        "autoscroll": "auto"
      },
      "outputs": [],
      "source": "\n//var df \u003d spark.read.option(\"inferSchema\", \"false\").option(\"header\", true).schema(schema).csv(\"s3://bucketcjm/data/taxismall.csv\") \nvar df \u003d spark.read.parquet(\"s3://bucketcjm/data/pyellow_tripdata_2016-02\") "
    },
    {
      "cell_type": "code",
      "execution_count": 4,
      "metadata": {
        "autoscroll": "auto"
      },
      "outputs": [],
      "source": "\ndf.show"
    },
    {
      "cell_type": "code",
      "execution_count": 5,
      "metadata": {
        "autoscroll": "auto"
      },
      "outputs": [],
      "source": "\ndef dropUseless(dataFrame: DataFrame): DataFrame \u003d {\n    dataFrame.drop(\n      \"year\",\n      \"passenger_count\",\n      \"month\",\n      \"vendor_id\",\n      \"is_weekend\",\n      \"trip_distance\",\n      \"store_and_fwd\")\n  }\n"
    },
    {
      "cell_type": "code",
      "execution_count": 6,
      "metadata": {
        "autoscroll": "auto"
      },
      "outputs": [],
      "source": "var tdf \u003d dropUseless(df)"
    },
    {
      "cell_type": "code",
      "execution_count": 7,
      "metadata": {
        "autoscroll": "auto"
      },
      "outputs": [],
      "source": "tdf.cache\ntdf.createOrReplaceTempView(\"taxi\")\nspark.catalog.cacheTable(\"taxi\")"
    },
    {
      "cell_type": "code",
      "execution_count": 8,
      "metadata": {
        "autoscroll": "auto"
      },
      "outputs": [],
      "source": "tdf.select(\"h_distance\",\"fare_amount\",\"trip_time\").describe().show"
    },
    {
      "cell_type": "code",
      "execution_count": 9,
      "metadata": {
        "autoscroll": "auto"
      },
      "outputs": [],
      "source": "tdf.select(\"h_distance\",\"fare_amount\",\"trip_time\").describe().show"
    },
    {
      "cell_type": "code",
      "execution_count": 10,
      "metadata": {},
      "outputs": [],
      "source": "%%sql\nselect hour, avg(fare_amount)\nfrom taxi\ngroup by hour order by hour "
    },
    {
      "cell_type": "code",
      "execution_count": 11,
      "metadata": {
        "autoscroll": "auto"
      },
      "outputs": [],
      "source": "tdf.groupBy(\"hour\").avg(\"fare_amount\", \"h_distance\").orderBy(\"hour\").show(24)"
    },
    {
      "cell_type": "code",
      "execution_count": 12,
      "metadata": {},
      "outputs": [],
      "source": "%%sql \nselect trip_time from taxi"
    },
    {
      "cell_type": "code",
      "execution_count": 13,
      "metadata": {
        "autoscroll": "auto"
      },
      "outputs": [],
      "source": "var cor \u003d tdf.stat.corr(\"fare_amount\", \"h_distance\")\n"
    },
    {
      "cell_type": "code",
      "execution_count": 14,
      "metadata": {
        "autoscroll": "auto"
      },
      "outputs": [],
      "source": "tdf.select(corr(\"fare_amount\",\"hour\")).show()"
    },
    {
      "cell_type": "code",
      "execution_count": 15,
      "metadata": {
        "autoscroll": "auto"
      },
      "outputs": [],
      "source": "tdf.groupBy(\"hour\").avg(\"fare_amount\", \"h_distance\").orderBy(\"hour\").show(4)"
    },
    {
      "cell_type": "code",
      "execution_count": 16,
      "metadata": {},
      "outputs": [],
      "source": "%%sql\n select hour, avg(fare_amount)\n from taxi\n group by hour order by hour "
    },
    {
      "cell_type": "code",
      "execution_count": 17,
      "metadata": {},
      "outputs": [],
      "source": "%%sql\n select day_of_week, avg(fare_amount), avg(h_distance)\n from taxi\n group by day_of_week order by day_of_week"
    },
    {
      "cell_type": "code",
      "execution_count": 18,
      "metadata": {},
      "outputs": [],
      "source": "%%sql\n select hour, avg(fare_amount), avg(h_distance)\n from taxi\n group by hour order by hour\n"
    },
    {
      "cell_type": "code",
      "execution_count": 19,
      "metadata": {},
      "outputs": [],
      "source": "%\n %sql\n select day_of_week, avg(fare_amount)\n from taxi\n group by day_of_week order by day_of_week"
    },
    {
      "cell_type": "code",
      "execution_count": 20,
      "metadata": {},
      "outputs": [],
      "source": "%%sql\n select h_distance, fare_amount\nfrom taxi"
    },
    {
      "cell_type": "code",
      "execution_count": 21,
      "metadata": {},
      "outputs": [],
      "source": "%%sql\nselect trip_time, fare_amount\n from taxi\n"
    },
    {
      "cell_type": "code",
      "execution_count": 22,
      "metadata": {
        "autoscroll": "auto"
      },
      "outputs": [],
      "source": "var featureNames \u003d Array(\"h_distance\", \"pickup_longitude\",\"pickup_latitude\",\"dropoff_longitude\", \"dropoff_latitude\",\"rate_code\",\"hour\", \"day_of_week\",\"trip_time\")\n"
    },
    {
      "cell_type": "code",
      "execution_count": 23,
      "metadata": {
        "autoscroll": "auto"
      },
      "outputs": [],
      "source": "val Array(traindf, evaldf) \u003d tdf.randomSplit(Array(0.7, 0.3), 5043)\ntraindf.show"
    },
    {
      "cell_type": "code",
      "execution_count": 24,
      "metadata": {
        "autoscroll": "auto"
      },
      "outputs": [],
      "source": "val labelColName \u003d \"fare_amount\"\n\nvar featureNames \u003d Array(\"h_distance\", \"pickup_longitude\",\"pickup_latitude\",\"dropoff_longitude\", \"dropoff_latitude\",\"rate_code\",\"hour\", \"day_of_week\",\"trip_time\")\n\nval regressorParam \u003d Map(\n    \"learning_rate\" -\u003e 0.05,\n    \"gamma\" -\u003e 1,\n    \"objective\" -\u003e\"reg:gamma\",\n    \"max_depth\" -\u003e 8,\n    \"subsample\" -\u003e 0.8,\n    \"num_round\" -\u003e 100,\n    \"tree_method\" -\u003e \"gpu_hist\")\n\n\nval regressor \u003d new XGBoostRegressor(regressorParam).setLabelCol(labelColName).setFeaturesCols(featureNames)\n\nval paramGrid \u003d new ParamGridBuilder().addGrid(regressor.maxDepth, Array(3, 8)).addGrid(regressor.eta, Array(0.2, 0.6)).build()\n\nval evaluator \u003d new RegressionEvaluator().setLabelCol(labelColName)\nval cv \u003d new CrossValidator().setEstimator(regressor).setEvaluator(evaluator).setEstimatorParamMaps(paramGrid).setNumFolds(3)\n\nregressor.explainParams()\n\n"
    },
    {
      "cell_type": "code",
      "execution_count": 25,
      "metadata": {
        "autoscroll": "auto"
      },
      "outputs": [],
      "source": "val cvmodel \u003d cv.fit(traindf)"
    },
    {
      "cell_type": "code",
      "execution_count": 26,
      "metadata": {
        "autoscroll": "auto"
      },
      "outputs": [],
      "source": "val model \u003d cvmodel.bestModel.asInstanceOf[XGBoostRegressionModel]\ncvmodel.getEstimatorParamMaps.zip(cvmodel.avgMetrics)\nmodel.extractParamMap()"
    },
    {
      "cell_type": "code",
      "execution_count": 27,
      "metadata": {
        "autoscroll": "auto"
      },
      "outputs": [],
      "source": "\nval pdf \u003d model.transform(evaldf).cache()\npdf.select(\"fare_amount\", \"prediction\").describe().show()"
    },
    {
      "cell_type": "code",
      "execution_count": 28,
      "metadata": {
        "autoscroll": "auto"
      },
      "outputs": [],
      "source": "\nval evaluator \u003d new RegressionEvaluator().setLabelCol(labelColName)\nval rmse \u003d evaluator.evaluate(pdf)\nprintln(s\"RMSE is $rmse\")"
    },
    {
      "cell_type": "code",
      "execution_count": 29,
      "metadata": {
        "autoscroll": "auto"
      },
      "outputs": [],
      "source": "\nval r2 \u003d evaluator.setMetricName(\"r2\").evaluate(pdf)"
    },
    {
      "cell_type": "code",
      "execution_count": 30,
      "metadata": {
        "autoscroll": "auto"
      },
      "outputs": [],
      "source": "\nvar predictions \u003d pdf.withColumn(\"error\", $\"prediction\" - $\"fare_amount\")\nval avgFare \u003d tdf.select(avg(\"fare_amount\")).first().getDouble(0)\npredictions \u003d predictions.withColumn(\"avgPrediction\", lit(avgFare))\nval regressionMeanEvaluator \u003d new RegressionEvaluator().setPredictionCol(\"avgPrediction\").setLabelCol(\"fare_amount\").setMetricName(\"rmse\")\n\nval rmsep \u003d regressionMeanEvaluator.evaluate(predictions)"
    },
    {
      "cell_type": "code",
      "execution_count": 31,
      "metadata": {
        "autoscroll": "auto"
      },
      "outputs": [],
      "source": "val df\u003dpdf\ndf.cache\ndf.createOrReplaceTempView(\"taxi\")\n"
    },
    {
      "cell_type": "code",
      "execution_count": 32,
      "metadata": {
        "autoscroll": "auto"
      },
      "outputs": [],
      "source": "df.show"
    },
    {
      "cell_type": "code",
      "execution_count": 33,
      "metadata": {},
      "outputs": [],
      "source": "%%sql\nselect h_distance, avg(fare_amount) from taxi group by h_distance order by h_distance;"
    },
    {
      "cell_type": "code",
      "execution_count": 34,
      "metadata": {},
      "outputs": [],
      "source": "%\n%sql\nselect h_distance, fare_amount, prediction from taxi ;"
    }
  ]
}