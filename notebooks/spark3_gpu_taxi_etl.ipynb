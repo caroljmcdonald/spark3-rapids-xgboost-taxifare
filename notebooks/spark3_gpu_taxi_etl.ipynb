{
 "cells": [
  {
   "cell_type": "code",
   "execution_count": 1,
   "metadata": {
    "autoscroll": "auto"
   },
   "outputs": [
    {
     "data": {
      "application/vnd.jupyter.widget-view+json": {
       "model_id": "58fd688b159642059978ac6d9014751d",
       "version_major": 2,
       "version_minor": 0
      },
      "text/plain": [
       "VBox()"
      ]
     },
     "metadata": {},
     "output_type": "display_data"
    },
    {
     "name": "stdout",
     "output_type": "stream",
     "text": [
      "Starting Spark application\n"
     ]
    },
    {
     "data": {
      "text/html": [
       "<table>\n",
       "<tr><th>ID</th><th>YARN Application ID</th><th>Kind</th><th>State</th><th>Spark UI</th><th>Driver log</th><th>Current session?</th></tr><tr><td>0</td><td>application_1608242786205_0003</td><td>spark</td><td>idle</td><td><a target=\"_blank\" href=\"http://ip-172-31-44-199.us-east-2.compute.internal:20888/proxy/application_1608242786205_0003/\" >Link</a></td><td><a target=\"_blank\" href=\"http://ip-172-31-38-69.us-east-2.compute.internal:8042/node/containerlogs/container_1608242786205_0003_01_000001/livy\" >Link</a></td><td>✔</td></tr></table>"
      ],
      "text/plain": [
       "<IPython.core.display.HTML object>"
      ]
     },
     "metadata": {},
     "output_type": "display_data"
    },
    {
     "data": {
      "application/vnd.jupyter.widget-view+json": {
       "model_id": "",
       "version_major": 2,
       "version_minor": 0
      },
      "text/plain": [
       "FloatProgress(value=0.0, bar_style='info', description='Progress:', layout=Layout(height='25px', width='50%'),…"
      ]
     },
     "metadata": {},
     "output_type": "display_data"
    },
    {
     "name": "stdout",
     "output_type": "stream",
     "text": [
      "SparkSession available as 'spark'.\n"
     ]
    },
    {
     "data": {
      "application/vnd.jupyter.widget-view+json": {
       "model_id": "",
       "version_major": 2,
       "version_minor": 0
      },
      "text/plain": [
       "FloatProgress(value=0.0, bar_style='info', description='Progress:', layout=Layout(height='25px', width='50%'),…"
      ]
     },
     "metadata": {},
     "output_type": "display_data"
    },
    {
     "name": "stdout",
     "output_type": "stream",
     "text": [
      "import org.apache.spark.sql.SparkSession\n",
      "import org.apache.spark.sql.types._\n",
      "import org.apache.spark.sql.DataFrame\n",
      "import org.apache.spark.sql.functions._\n",
      "import org.apache.spark.sql.types.FloatType\n"
     ]
    }
   ],
   "source": [
    "import org.apache.spark.sql.SparkSession\n",
    "import org.apache.spark.sql.types._\n",
    "\n",
    "import org.apache.spark.sql.DataFrame\n",
    "import org.apache.spark.sql.functions._\n",
    "import org.apache.spark.sql.types.FloatType"
   ]
  },
  {
   "cell_type": "markdown",
   "metadata": {},
   "source": [
    " \n",
    "This notebook will read NY Taxi data , transform it and save it to parquet format "
   ]
  },
  {
   "cell_type": "code",
   "execution_count": 2,
   "metadata": {
    "autoscroll": "auto"
   },
   "outputs": [],
   "source": [
    "\n",
    "lazy val schema =\n",
    "StructType(Array(\n",
    "StructField(\"VendorId\", IntegerType),\n",
    "StructField(\"tpep_pickup_datetime\", TimestampType),\n",
    "StructField(\"tpep_dropoff_datetime\", TimestampType),\n",
    "StructField(\"passenger_count\", IntegerType),\n",
    "StructField(\"trip_distance\", FloatType),\n",
    "StructField(\"pickup_longitude\", FloatType),\n",
    "StructField(\"pickup_latitude\", FloatType),\n",
    "StructField(\"RatecodeID\", IntegerType),\n",
    "StructField(\"store_and_fwd_flag\", StringType),\n",
    "StructField(\"dropoff_longitude\", FloatType),\n",
    "StructField(\"dropoff_latitude\", FloatType),\n",
    "StructField(\"payment_type\", IntegerType),\n",
    "StructField(\"fare_amount\", FloatType),\n",
    "StructField(\"extra\", FloatType),\n",
    "StructField(\"mta_tax\", FloatType),\n",
    "StructField(\"tip_amount\", FloatType),\n",
    "StructField(\"tolls_amount\", FloatType),\n",
    "StructField(\"improvement_surcharge\", FloatType),\n",
    "StructField(\"total_amount\", FloatType) \n",
    "  ))"
   ]
  },
  {
   "cell_type": "code",
   "execution_count": 3,
   "metadata": {
    "autoscroll": "auto"
   },
   "outputs": [],
   "source": [
    "// Either copy the data to your bucket or read it from the pulic bucket\n",
    "// aws: after ssh into master: \n",
    "// wget https://s3.amazonaws.com/nyc-tlc/trip+data/yellow_tripdata_2016-02.csv\n",
    "// aws s3 cp yellow_tripdata_2016-02.csv s3://mybucket/data/\n",
    "\n",
    "//var df = spark.read.option(\"inferSchema\", \"false\").option(\"header\", true).schema(schema).csv(\"s3://bucketcjm/data/yellow_tripdata_2016-02.csv\") \n",
    "\n",
    "var df = spark.read.option(\"inferSchema\", \"false\").option(\"header\", true).schema(schema).csv(\"s3://nyc-tlc/trip data/yellow_tripdata_2018-01.csv\")"
   ]
  },
  {
   "cell_type": "code",
   "execution_count": 4,
   "metadata": {
    "autoscroll": "auto"
   },
   "outputs": [],
   "source": [
    "df.show"
   ]
  },
  {
   "cell_type": "code",
   "execution_count": 5,
   "metadata": {
    "autoscroll": "auto"
   },
   "outputs": [],
   "source": [
    "def dropUseless(dataFrame: DataFrame): DataFrame = {\n",
    "    dataFrame.drop(\n",
    "      \"payment_type\",\n",
    "      \"extra\",\n",
    "      \"mta_tax\",\n",
    "      \"tip_amount\",\n",
    "      \"tolls_amount\",\n",
    "      \"improvement_surcharge\",\n",
    "      \"total_amount\")\n",
    "  }"
   ]
  },
  {
   "cell_type": "code",
   "execution_count": 6,
   "metadata": {
    "autoscroll": "auto"
   },
   "outputs": [],
   "source": [
    "df = dropUseless(df)"
   ]
  },
  {
   "cell_type": "code",
   "execution_count": 7,
   "metadata": {
    "autoscroll": "auto"
   },
   "outputs": [],
   "source": [
    "df = df.withColumnRenamed(\"tpep_pickup_datetime\", \"pickup_datetime\")\n",
    "df = df.withColumnRenamed(\"tpep_dropoff_datetime\", \"dropoff_datetime\")\n",
    "df = df.withColumnRenamed(\"VendorID\", \"vendor_id\")\n",
    "df = df.withColumnRenamed(\"store_and_fwd_flag\", \"store_and_fwd\")\n",
    "df = df.withColumnRenamed(\"RatecodeID\", \"rate_code\")"
   ]
  },
  {
   "cell_type": "code",
   "execution_count": 8,
   "metadata": {
    "autoscroll": "auto"
   },
   "outputs": [],
   "source": [
    "z.show (df)"
   ]
  },
  {
   "cell_type": "code",
   "execution_count": 9,
   "metadata": {
    "autoscroll": "auto"
   },
   "outputs": [],
   "source": [
    "val start = unix_timestamp(col(\"pickup_datetime\")).cast(LongType)\n",
    "val end = unix_timestamp(col(\"dropoff_datetime\")).cast(LongType)\n",
    "df = df.withColumn(\"trip_time\", (end-start))"
   ]
  },
  {
   "cell_type": "code",
   "execution_count": 10,
   "metadata": {
    "autoscroll": "auto"
   },
   "outputs": [],
   "source": [
    "// get day of week and hour\n",
    "val datetime = col(\"pickup_datetime\")\n",
    "df = df.withColumn(\"year\", year(datetime)).withColumn(\"month\", month(datetime))\n",
    "      .withColumn(\"day\", dayofmonth(datetime))\n",
    "      .withColumn(\"day_of_week\", dayofweek(datetime))\n",
    "      .withColumn(\"is_weekend\",col(\"day_of_week\").isin(1, 7).cast(IntegerType))  // 1: Sunday, 7: Saturday\n",
    "      .withColumn(\"hour\", hour(datetime))\n",
    "      .drop(\"dropoff_datetime\",\"pickup_datetime\")"
   ]
  },
  {
   "cell_type": "code",
   "execution_count": 11,
   "metadata": {
    "autoscroll": "auto"
   },
   "outputs": [],
   "source": [
    "df.schema\n"
   ]
  },
  {
   "cell_type": "code",
   "execution_count": 12,
   "metadata": {
    "autoscroll": "auto"
   },
   "outputs": [],
   "source": [
    "// filter out anomalous values\n",
    "df = df.filter(!($\"trip_distance\" < 1 and $\"fare_amount\" > 15 ))\n",
    "df = df.filter(!($\"trip_distance\" < 10 and $\"fare_amount\" > 40 ))\n",
    "df = df.filter($\"trip_distance\" > 0 and $\"trip_distance\" < 100)\n",
    "df = df.filter($\"fare_amount\" > 0 and $\"fare_amount\" < 100)\n",
    "df = df.filter($\"passenger_count\" > 0 and $\"passenger_count\" < 6)\n",
    "df = df.filter($\"pickup_longitude\" > -75 and $\"pickup_longitude\" < -73)\n",
    "df = df.filter($\"dropoff_longitude\" > -75 and $\"dropoff_longitude\" < -73)\n",
    "df = df.filter($\"pickup_latitude\" > 40 and $\"pickup_latitude\" < 42)\n",
    "df = df.filter($\"dropoff_latitude\" > 40 and $\"dropoff_latitude\" < 42)"
   ]
  },
  {
   "cell_type": "code",
   "execution_count": 13,
   "metadata": {
    "autoscroll": "auto"
   },
   "outputs": [],
   "source": [
    "df.show"
   ]
  },
  {
   "cell_type": "code",
   "execution_count": 14,
   "metadata": {
    "autoscroll": "auto"
   },
   "outputs": [],
   "source": [
    "// filter out anomouslous trip_time values\n",
    "df = df.filter(!($\"trip_time\" < 1000 and $\"fare_amount\" > 40 ))\n",
    "df = df.filter($\"trip_time\" > 10 )\n",
    "df = df.filter($\"trip_time\" <  40000)"
   ]
  },
  {
   "cell_type": "code",
   "execution_count": 15,
   "metadata": {
    "autoscroll": "auto"
   },
   "outputs": [],
   "source": [
    "df.show"
   ]
  },
  {
   "cell_type": "code",
   "execution_count": 16,
   "metadata": {
    "autoscroll": "auto"
   },
   "outputs": [],
   "source": [
    "// calculate haversine distance  \n",
    "def addHDistance(dataFrame: DataFrame): DataFrame = {\n",
    "    val P = math.Pi / 180\n",
    "    val lat1 = col(\"pickup_latitude\")\n",
    "    val lon1 = col(\"pickup_longitude\")\n",
    "    val lat2 = col(\"dropoff_latitude\")\n",
    "    val lon2 = col(\"dropoff_longitude\")\n",
    "    val internalValue = (lit(0.5)\n",
    "      - cos((lat2 - lat1) * P) / 2\n",
    "      + cos(lat1 * P) * cos(lat2 * P) * (lit(1) - cos((lon2 - lon1) * P)) / 2)\n",
    "    val hDistance = lit(12734) * asin(sqrt(internalValue))\n",
    "    dataFrame.withColumn(\"h_distance\", hDistance)\n",
    "  }"
   ]
  },
  {
   "cell_type": "code",
   "execution_count": 17,
   "metadata": {
    "autoscroll": "auto"
   },
   "outputs": [],
   "source": [
    "df = addHDistance(df)"
   ]
  },
  {
   "cell_type": "code",
   "execution_count": 18,
   "metadata": {
    "autoscroll": "auto"
   },
   "outputs": [],
   "source": [
    "df = df.filter(!($\"h_distance\" < 1 and $\"fare_amount\" >15))\n",
    "df = df.filter(!($\"h_distance\" < 10 and $\"fare_amount\" > 40 ))\n",
    "df = df.filter($\"h_distance\" > 1 and $\"h_distance\" < 100)"
   ]
  },
  {
   "cell_type": "code",
   "execution_count": 19,
   "metadata": {
    "autoscroll": "auto"
   },
   "outputs": [],
   "source": [
    "// round off location values\n",
    "df = df.withColumn(\"pickup_longitude\", round( df(\"pickup_longitude\"),3)).withColumn(\"pickup_latitude\", round( df(\"pickup_latitude\"),3))\n",
    "df = df.withColumn(\"dropoff_longitude\", round( df(\"dropoff_longitude\"),3)).withColumn(\"dropoff_latitude\", round( df(\"dropoff_latitude\"),3))"
   ]
  },
  {
   "cell_type": "code",
   "execution_count": 20,
   "metadata": {
    "autoscroll": "auto"
   },
   "outputs": [],
   "source": [
    "df = df.withColumn(\"h_distance\", round( $\"h_distance\",3))"
   ]
  },
  {
   "cell_type": "code",
   "execution_count": 21,
   "metadata": {
    "autoscroll": "auto"
   },
   "outputs": [],
   "source": [
    "df.show"
   ]
  },
  {
   "cell_type": "code",
   "execution_count": 22,
   "metadata": {
    "autoscroll": "auto"
   },
   "outputs": [],
   "source": [
    "df.select(\"h_distance\",\"fare_amount\",\"trip_time\").describe().show"
   ]
  },
  {
   "cell_type": "code",
   "execution_count": 23,
   "metadata": {
    "autoscroll": "auto"
   },
   "outputs": [],
   "source": [
    "df.schema\n"
   ]
  },
  {
   "cell_type": "code",
   "execution_count": 24,
   "metadata": {
    "autoscroll": "auto"
   },
   "outputs": [],
   "source": [
    "df.createOrReplaceTempView(\"taxi\")\n"
   ]
  },
  {
   "cell_type": "code",
   "execution_count": 25,
   "metadata": {},
   "outputs": [],
   "source": [
    "%%sql\n",
    "select hour, avg(fare_amount), avg(h_distance)\n",
    "from taxi\n",
    "group by hour order by hour"
   ]
  },
  {
   "cell_type": "code",
   "execution_count": 26,
   "metadata": {
    "autoscroll": "auto"
   },
   "outputs": [],
   "source": [
    "df.write.mode(\"overwrite\").parquet(\"s3://bucketcjm/data/pyellow_tripdata_2016-02\")\n"
   ]
  },
  {
   "cell_type": "code",
   "execution_count": 27,
   "metadata": {
    "autoscroll": "auto"
   },
   "outputs": [],
   "source": [
    "df.unpersist"
   ]
  },
  {
   "cell_type": "code",
   "execution_count": 2,
   "metadata": {
    "autoscroll": "auto"
   },
   "outputs": [
    {
     "data": {
      "application/vnd.jupyter.widget-view+json": {
       "model_id": "dcb3482555f241ed9fc5443cee066558",
       "version_major": 2,
       "version_minor": 0
      },
      "text/plain": [
       "VBox()"
      ]
     },
     "metadata": {},
     "output_type": "display_data"
    },
    {
     "data": {
      "application/vnd.jupyter.widget-view+json": {
       "model_id": "",
       "version_major": 2,
       "version_minor": 0
      },
      "text/plain": [
       "FloatProgress(value=0.0, bar_style='info', description='Progress:', layout=Layout(height='25px', width='50%'),…"
      ]
     },
     "metadata": {},
     "output_type": "display_data"
    },
    {
     "name": "stdout",
     "output_type": "stream",
     "text": [
      "tdf: org.apache.spark.sql.DataFrame = [vendor_id: int, passenger_count: int ... 16 more fields]\n"
     ]
    }
   ],
   "source": [
    "var tdf = spark.read.parquet(\"s3://bucketcjm/data/pyellow_tripdata_2016-02\") "
   ]
  },
  {
   "cell_type": "code",
   "execution_count": 3,
   "metadata": {
    "autoscroll": "auto"
   },
   "outputs": [
    {
     "data": {
      "application/vnd.jupyter.widget-view+json": {
       "model_id": "5afcdff8bb2c44d8800d61d645455edb",
       "version_major": 2,
       "version_minor": 0
      },
      "text/plain": [
       "VBox()"
      ]
     },
     "metadata": {},
     "output_type": "display_data"
    },
    {
     "data": {
      "application/vnd.jupyter.widget-view+json": {
       "model_id": "",
       "version_major": 2,
       "version_minor": 0
      },
      "text/plain": [
       "FloatProgress(value=0.0, bar_style='info', description='Progress:', layout=Layout(height='25px', width='50%'),…"
      ]
     },
     "metadata": {},
     "output_type": "display_data"
    },
    {
     "name": "stdout",
     "output_type": "stream",
     "text": [
      "+---------+---------------+-------------+----------------+---------------+---------+-------------+-----------------+----------------+-----------+---------+----+-----+---+-----------+----------+----+----------+\n",
      "|vendor_id|passenger_count|trip_distance|pickup_longitude|pickup_latitude|rate_code|store_and_fwd|dropoff_longitude|dropoff_latitude|fare_amount|trip_time|year|month|day|day_of_week|is_weekend|hour|h_distance|\n",
      "+---------+---------------+-------------+----------------+---------------+---------+-------------+-----------------+----------------+-----------+---------+----+-----+---+-----------+----------+----+----------+\n",
      "|        1|              2|          5.9|         -73.788|         40.642|        1|            N|          -73.826|          40.695|       19.5|     1154|2016|    2|  4|          5|         0|  17|     6.784|\n",
      "|        1|              1|          1.5|         -74.001|         40.717|        1|            N|          -74.017|          40.711|        9.5|      725|2016|    2|  4|          5|         0|  17|     1.523|\n",
      "|        2|              1|         1.44|         -73.985|         40.774|        1|            N|          -73.973|          40.788|        7.0|      402|2016|    2|  4|          5|         0|  17|     1.807|\n",
      "|        2|              1|         1.73|         -73.993|         40.672|        1|            N|          -73.991|          40.693|       10.5|      814|2016|    2|  4|          5|         0|  17|     2.236|\n",
      "|        1|              1|          2.2|         -73.997|         40.738|        1|            N|          -73.974|          40.762|       13.0|     1125|2016|    2|  4|          5|         0|  17|     3.299|\n",
      "|        1|              3|          1.1|         -73.977|         40.766|        1|            N|          -73.989|          40.757|       10.5|      884|2016|    2|  4|          5|         0|  17|     1.445|\n",
      "|        2|              3|         1.78|         -73.991|          40.75|        1|            N|          -73.974|          40.761|       13.0|     1159|2016|    2|  4|          5|         0|  17|      1.88|\n",
      "|        1|              1|          1.9|           -74.0|         40.733|        1|            N|          -74.005|          40.752|        9.0|      636|2016|    2|  4|          5|         0|  17|     2.165|\n",
      "|        1|              1|          1.3|         -73.985|         40.743|        1|            N|          -73.992|          40.727|        7.0|      477|2016|    2|  4|          5|         0|  17|     1.854|\n",
      "|        1|              2|          1.5|         -73.973|         40.764|        1|            N|          -73.986|          40.744|        9.0|      702|2016|    2|  4|          5|         0|  17|     2.459|\n",
      "|        1|              1|          0.7|         -73.966|         40.758|        1|            N|          -73.959|          40.764|        5.5|      326|2016|    2|  4|          5|         0|  17|     1.017|\n",
      "|        1|              1|          0.7|         -73.991|         40.746|        1|            N|          -73.984|          40.755|        6.0|      422|2016|    2|  4|          5|         0|  17|     1.118|\n",
      "|        2|              1|         9.38|         -73.873|         40.774|        1|            N|          -73.996|           40.76|       32.5|     2090|2016|    2|  4|          5|         0|  17|    10.504|\n",
      "|        1|              1|          2.5|         -73.956|         40.767|        1|            N|          -73.932|          40.795|       14.0|     1164|2016|    2|  4|          5|         0|  17|     3.685|\n",
      "|        1|              1|          0.8|         -73.987|         40.761|        1|            N|          -73.991|          40.752|        8.5|      689|2016|    2|  4|          5|         0|  17|     1.039|\n",
      "|        2|              2|         2.83|         -74.004|         40.733|        1|            N|          -73.984|          40.763|       15.0|     1250|2016|    2|  4|          5|         0|  17|     3.753|\n",
      "|        1|              2|          3.2|         -74.005|         40.751|        1|            N|          -73.978|          40.726|       14.5|     1250|2016|    2|  4|          5|         0|  17|     3.614|\n",
      "|        1|              4|          1.7|         -73.988|         40.759|        1|            N|          -74.005|          40.742|        9.0|      638|2016|    2|  4|          5|         0|  17|     2.404|\n",
      "|        1|              2|          1.1|         -73.974|         40.763|        1|            N|          -73.985|          40.748|        7.5|      545|2016|    2|  4|          5|         0|  17|     1.928|\n",
      "|        2|              5|         1.09|         -73.989|         40.779|        1|            N|          -73.976|          40.784|        7.0|      489|2016|    2|  4|          5|         0|  17|     1.227|\n",
      "+---------+---------------+-------------+----------------+---------------+---------+-------------+-----------------+----------------+-----------+---------+----+-----+---+-----------+----------+----+----------+\n",
      "only showing top 20 rows\n",
      "\n"
     ]
    }
   ],
   "source": [
    "tdf.show"
   ]
  },
  {
   "cell_type": "code",
   "execution_count": 4,
   "metadata": {
    "autoscroll": "auto"
   },
   "outputs": [
    {
     "data": {
      "application/vnd.jupyter.widget-view+json": {
       "model_id": "b85af06a520043b587be3cf7508da852",
       "version_major": 2,
       "version_minor": 0
      },
      "text/plain": [
       "VBox()"
      ]
     },
     "metadata": {},
     "output_type": "display_data"
    },
    {
     "data": {
      "application/vnd.jupyter.widget-view+json": {
       "model_id": "",
       "version_major": 2,
       "version_minor": 0
      },
      "text/plain": [
       "FloatProgress(value=0.0, bar_style='info', description='Progress:', layout=Layout(height='25px', width='50%'),…"
      ]
     },
     "metadata": {},
     "output_type": "display_data"
    },
    {
     "name": "stdout",
     "output_type": "stream",
     "text": [
      "res3: org.apache.spark.sql.Dataset[org.apache.spark.sql.Row] = [vendor_id: int, passenger_count: int ... 16 more fields]\n"
     ]
    }
   ],
   "source": [
    "tdf.cache\n",
    "tdf.createOrReplaceTempView(\"taxi\")\n",
    "spark.catalog.cacheTable(\"taxi\")"
   ]
  },
  {
   "cell_type": "code",
   "execution_count": 5,
   "metadata": {
    "autoscroll": "auto"
   },
   "outputs": [
    {
     "data": {
      "application/vnd.jupyter.widget-view+json": {
       "model_id": "d42ddd6d8a16497ab5168ff9b309a56e",
       "version_major": 2,
       "version_minor": 0
      },
      "text/plain": [
       "VBox()"
      ]
     },
     "metadata": {},
     "output_type": "display_data"
    },
    {
     "data": {
      "application/vnd.jupyter.widget-view+json": {
       "model_id": "",
       "version_major": 2,
       "version_minor": 0
      },
      "text/plain": [
       "FloatProgress(value=0.0, bar_style='info', description='Progress:', layout=Layout(height='25px', width='50%'),…"
      ]
     },
     "metadata": {},
     "output_type": "display_data"
    },
    {
     "name": "stdout",
     "output_type": "stream",
     "text": [
      "+-------+------------------+------------------+-----------------+\n",
      "|summary|        h_distance|       fare_amount|        trip_time|\n",
      "+-------+------------------+------------------+-----------------+\n",
      "|  count|           8839408|           8839408|          8839408|\n",
      "|   mean|3.8643447165240135|13.623234854638849|889.0052525010725|\n",
      "| stddev| 3.906505092446503| 9.992479011059864|631.0750517597542|\n",
      "|    min|               1.0|              0.01|               11|\n",
      "|    max|            91.005|             99.99|            39972|\n",
      "+-------+------------------+------------------+-----------------+\n",
      "\n"
     ]
    }
   ],
   "source": [
    "tdf.select(\"h_distance\",\"fare_amount\",\"trip_time\").describe().show"
   ]
  },
  {
   "cell_type": "code",
   "execution_count": 6,
   "metadata": {
    "autoscroll": "auto"
   },
   "outputs": [
    {
     "data": {
      "application/vnd.jupyter.widget-view+json": {
       "model_id": "3a06d66b9bdb4046984b71b4ceff5423",
       "version_major": 2,
       "version_minor": 0
      },
      "text/plain": [
       "VBox()"
      ]
     },
     "metadata": {},
     "output_type": "display_data"
    },
    {
     "data": {
      "application/vnd.jupyter.widget-view+json": {
       "model_id": "",
       "version_major": 2,
       "version_minor": 0
      },
      "text/plain": [
       "FloatProgress(value=0.0, bar_style='info', description='Progress:', layout=Layout(height='25px', width='50%'),…"
      ]
     },
     "metadata": {},
     "output_type": "display_data"
    },
    {
     "name": "stdout",
     "output_type": "stream",
     "text": [
      "+----+------------------+------------------+\n",
      "|hour|  avg(fare_amount)|   avg(h_distance)|\n",
      "+----+------------------+------------------+\n",
      "|   0|14.179643317334271| 4.458087735046495|\n",
      "|   1|13.827095010892949| 4.429371479029097|\n",
      "|   2|13.713627421494186|  4.43074106685054|\n",
      "|   3|14.264518245221398| 4.697226917381569|\n",
      "|   4|16.266169431476094| 5.517976423449112|\n",
      "|   5|17.538526357708626|6.1107537361347966|\n",
      "|   6|14.102223913972002| 4.668029960670734|\n",
      "|   7|12.815018112487849|3.7610465452425803|\n",
      "|   8|13.004404053988457| 3.429177667894983|\n",
      "|   9|13.080668873012876| 3.355509792620909|\n",
      "|  10|13.245307067161042|3.4511313568688626|\n",
      "|  11|13.313469174145773| 3.441582293868121|\n",
      "|  12|13.436498532200424|3.4871494610994267|\n",
      "|  13| 13.83863286030106| 3.675348011628207|\n",
      "|  14|14.253723045043053| 3.825762018452578|\n",
      "|  15|14.206508132846748|3.8149681636721944|\n",
      "|  16|14.137146803493694| 3.895133809979429|\n",
      "|  17|  13.6964785939759|3.7107776356656084|\n",
      "|  18|13.011186262066634| 3.466850838939892|\n",
      "|  19|12.846325616683078|3.5621564424181464|\n",
      "+----+------------------+------------------+\n",
      "only showing top 20 rows\n",
      "\n"
     ]
    }
   ],
   "source": [
    "tdf.groupBy(\"hour\").avg(\"fare_amount\", \"h_distance\").orderBy(\"hour\").show()"
   ]
  },
  {
   "cell_type": "code",
   "execution_count": 7,
   "metadata": {
    "autoscroll": "auto"
   },
   "outputs": [
    {
     "data": {
      "application/vnd.jupyter.widget-view+json": {
       "model_id": "590ce0abd7e649a2a5f75766273c94e5",
       "version_major": 2,
       "version_minor": 0
      },
      "text/plain": [
       "VBox()"
      ]
     },
     "metadata": {},
     "output_type": "display_data"
    },
    {
     "data": {
      "application/vnd.jupyter.widget-view+json": {
       "model_id": "",
       "version_major": 2,
       "version_minor": 0
      },
      "text/plain": [
       "FloatProgress(value=0.0, bar_style='info', description='Progress:', layout=Layout(height='25px', width='50%'),…"
      ]
     },
     "metadata": {},
     "output_type": "display_data"
    },
    {
     "name": "stdout",
     "output_type": "stream",
     "text": [
      "== Physical Plan ==\n",
      "AdaptiveSparkPlan (7)\n",
      "+- Sort (6)\n",
      "   +- Exchange (5)\n",
      "      +- HashAggregate (4)\n",
      "         +- Exchange (3)\n",
      "            +- HashAggregate (2)\n",
      "               +- InMemoryTableScan (1)\n",
      "                     +- InMemoryRelation (2)\n",
      "                           +- * GpuColumnarToRow (4)\n",
      "                              +- GpuBatchScan (3)\n",
      "\n",
      "\n",
      "(1) InMemoryTableScan\n",
      "Output [3]: [fare_amount#9, hour#16, h_distance#17]\n",
      "Arguments: [fare_amount#9, hour#16, h_distance#17]\n",
      "\n",
      "(2) InMemoryRelation\n",
      "Arguments: [vendor_id#0, passenger_count#1, trip_distance#2, pickup_longitude#3, pickup_latitude#4, rate_code#5, store_and_fwd#6, dropoff_longitude#7, dropoff_latitude#8, fare_amount#9, trip_time#10L, year#11, month#12, day#13, day_of_week#14, is_weekend#15, hour#16, h_distance#17], CachedRDDBuilder(true,10000,StorageLevel(disk, memory, deserialized, 1 replicas),*(1) GpuColumnarToRow false\n",
      "+- GpuBatchScan[vendor_id#0, passenger_count#1, trip_distance#2, pickup_longitude#3, pickup_latitude#4, rate_code#5, store_and_fwd#6, dropoff_longitude#7, dropoff_latitude#8, fare_amount#9, trip_time#10L, year#11, month#12, day#13, day_of_week#14, is_weekend#15, hour#16, h_distance#17] GpuParquetScan DataFilters: [], Location: InMemoryFileIndex[s3://bucketcjm/data/pyellow_tripdata_2016-02], PartitionFilters: [], ReadSchema: struct<vendor_id:int,passenger_count:int,trip_distance:float,pickup_longitude:float,pickup_latitu..., PushedFilters: []\n",
      ",None)\n",
      "\n",
      "(3) GpuBatchScan\n",
      "Output [18]: [vendor_id#0, passenger_count#1, trip_distance#2, pickup_longitude#3, pickup_latitude#4, rate_code#5, store_and_fwd#6, dropoff_longitude#7, dropoff_latitude#8, fare_amount#9, trip_time#10L, year#11, month#12, day#13, day_of_week#14, is_weekend#15, hour#16, h_distance#17]\n",
      "Arguments: [vendor_id#0, passenger_count#1, trip_distance#2, pickup_longitude#3, pickup_latitude#4, rate_code#5, store_and_fwd#6, dropoff_longitude#7, dropoff_latitude#8, fare_amount#9, trip_time#10L, year#11, month#12, day#13, day_of_week#14, is_weekend#15, hour#16, h_distance#17], GpuParquetScan(org.apache.spark.sql.SparkSession@1dcc3dd0,Configuration: core-default.xml, core-site.xml, mapred-default.xml, mapred-site.xml, yarn-default.xml, yarn-site.xml, hdfs-default.xml, hdfs-site.xml, resource-types.xml, emrfs-site.xml, __spark_hadoop_conf__.xml,org.apache.spark.sql.execution.datasources.InMemoryFileIndex@79966711,StructType(StructField(vendor_id,IntegerType,true), StructField(passenger_count,IntegerType,true), StructField(trip_distance,FloatType,true), StructField(pickup_longitude,FloatType,true), StructField(pickup_latitude,FloatType,true), StructField(rate_code,IntegerType,true), StructField(store_and_fwd,StringType,true), StructField(dropoff_longitude,FloatType,true), StructField(dropoff_latitude,FloatType,true), StructField(fare_amount,FloatType,true), StructField(trip_time,LongType,true), StructField(year,IntegerType,true), StructField(month,IntegerType,true), StructField(day,IntegerType,true), StructField(day_of_week,IntegerType,true), StructField(is_weekend,IntegerType,true), StructField(hour,IntegerType,true), StructField(h_distance,DoubleType,true)),StructType(StructField(vendor_id,IntegerType,true), StructField(passenger_count,IntegerType,true), StructField(trip_distance,FloatType,true), StructField(pickup_longitude,FloatType,true), StructField(pickup_latitude,FloatType,true), StructField(rate_code,IntegerType,true), StructField(store_and_fwd,StringType,true), StructField(dropoff_longitude,FloatType,true), StructField(dropoff_latitude,FloatType,true), StructField(fare_amount,FloatType,true), StructField(trip_time,LongType,true), StructField(year,IntegerType,true), StructField(month,IntegerType,true), StructField(day,IntegerType,true), StructField(day_of_week,IntegerType,true), StructField(is_weekend,IntegerType,true), StructField(hour,IntegerType,true), StructField(h_distance,DoubleType,true)),StructType(),[Lorg.apache.spark.sql.sources.Filter;@15811c9e,org.apache.spark.sql.util.CaseInsensitiveStringMap@1527e15e,List(),List(),com.nvidia.spark.rapids.RapidsConf@705dd983,true)\n",
      "\n",
      "(4) GpuColumnarToRow [codegen id : 1]\n",
      "Input [18]: [vendor_id#0, passenger_count#1, trip_distance#2, pickup_longitude#3, pickup_latitude#4, rate_code#5, store_and_fwd#6, dropoff_longitude#7, dropoff_latitude#8, fare_amount#9, trip_time#10L, year#11, month#12, day#13, day_of_week#14, is_weekend#15, hour#16, h_distance#17]\n",
      "Arguments: false\n",
      "\n",
      "(2) HashAggregate\n",
      "Input [3]: [fare_amount#9, hour#16, h_distance#17]\n",
      "Keys [1]: [hour#16]\n",
      "Functions [2]: [partial_avg(cast(fare_amount#9 as double)), partial_avg(h_distance#17)]\n",
      "Aggregate Attributes [4]: [sum#1612, count#1613L, sum#1614, count#1615L]\n",
      "Results [5]: [hour#16, sum#1616, count#1617L, sum#1618, count#1619L]\n",
      "\n",
      "(3) Exchange\n",
      "Input [5]: [hour#16, sum#1616, count#1617L, sum#1618, count#1619L]\n",
      "Arguments: hashpartitioning(hour#16, 200), true, [id=#157]\n",
      "\n",
      "(4) HashAggregate\n",
      "Input [5]: [hour#16, sum#1616, count#1617L, sum#1618, count#1619L]\n",
      "Keys [1]: [hour#16]\n",
      "Functions [2]: [avg(cast(fare_amount#9 as double)), avg(h_distance#17)]\n",
      "Aggregate Attributes [2]: [avg(cast(fare_amount#9 as double))#1335, avg(h_distance#17)#1336]\n",
      "Results [3]: [hour#16, avg(cast(fare_amount#9 as double))#1335 AS avg(fare_amount)#1337, avg(h_distance#17)#1336 AS avg(h_distance)#1338]\n",
      "\n",
      "(5) Exchange\n",
      "Input [3]: [hour#16, avg(fare_amount)#1337, avg(h_distance)#1338]\n",
      "Arguments: rangepartitioning(hour#16 ASC NULLS FIRST, 200), true, [id=#160]\n",
      "\n",
      "(6) Sort\n",
      "Input [3]: [hour#16, avg(fare_amount)#1337, avg(h_distance)#1338]\n",
      "Arguments: [hour#16 ASC NULLS FIRST], true, 0\n",
      "\n",
      "(7) AdaptiveSparkPlan\n",
      "Output [3]: [hour#16, avg(fare_amount)#1337, avg(h_distance)#1338]\n",
      "Arguments: isFinalPlan=false\n",
      "\n",
      "\n"
     ]
    }
   ],
   "source": [
    "tdf.groupBy(\"hour\").avg(\"fare_amount\", \"h_distance\").orderBy(\"hour\").explain(\"formatted\")"
   ]
  },
  {
   "cell_type": "code",
   "execution_count": 8,
   "metadata": {
    "autoscroll": "auto"
   },
   "outputs": [
    {
     "data": {
      "application/vnd.jupyter.widget-view+json": {
       "model_id": "c58a09ab815040ddb019949ac2515e5f",
       "version_major": 2,
       "version_minor": 0
      },
      "text/plain": [
       "VBox()"
      ]
     },
     "metadata": {},
     "output_type": "display_data"
    },
    {
     "data": {
      "application/vnd.jupyter.widget-view+json": {
       "model_id": "",
       "version_major": 2,
       "version_minor": 0
      },
      "text/plain": [
       "FloatProgress(value=0.0, bar_style='info', description='Progress:', layout=Layout(height='25px', width='50%'),…"
      ]
     },
     "metadata": {},
     "output_type": "display_data"
    },
    {
     "name": "stdout",
     "output_type": "stream",
     "text": [
      "df3: org.apache.spark.sql.DataFrame = [hour: int, count: bigint]\n",
      "+----+------+\n",
      "|hour| count|\n",
      "+----+------+\n",
      "|   0|319724|\n",
      "|   1|225932|\n",
      "|   2|169677|\n",
      "|   3|120881|\n",
      "|   4| 92592|\n",
      "+----+------+\n",
      "only showing top 5 rows\n",
      "\n"
     ]
    }
   ],
   "source": [
    "val df3 = tdf.groupBy(\"hour\").count\n",
    "\n",
    "df3.orderBy(asc(\"hour\"))show(5)"
   ]
  },
  {
   "cell_type": "code",
   "execution_count": 35,
   "metadata": {
    "autoscroll": "auto"
   },
   "outputs": [],
   "source": [
    "df3.explain(\"formatted\")"
   ]
  },
  {
   "cell_type": "code",
   "execution_count": 17,
   "metadata": {
    "autoscroll": "auto"
   },
   "outputs": [
    {
     "data": {
      "application/vnd.jupyter.widget-view+json": {
       "model_id": "daed2e73c2b64d6f8f5ff24c61b2cb18",
       "version_major": 2,
       "version_minor": 0
      },
      "text/plain": [
       "VBox()"
      ]
     },
     "metadata": {},
     "output_type": "display_data"
    },
    {
     "data": {
      "application/vnd.jupyter.widget-view+json": {
       "model_id": "",
       "version_major": 2,
       "version_minor": 0
      },
      "text/plain": [
       "FloatProgress(value=0.0, bar_style='info', description='Progress:', layout=Layout(height='25px', width='50%'),…"
      ]
     },
     "metadata": {},
     "output_type": "display_data"
    },
    {
     "name": "stdout",
     "output_type": "stream",
     "text": [
      "+----+------+\n",
      "|hour| count|\n",
      "+----+------+\n",
      "|   0|319724|\n",
      "|   1|225932|\n",
      "|   2|169677|\n",
      "|   3|120881|\n",
      "|   4| 92592|\n",
      "|   5| 90334|\n",
      "|   6|201631|\n",
      "|   7|336232|\n",
      "|   8|403258|\n",
      "|   9|397340|\n",
      "|  10|384525|\n",
      "|  11|396518|\n",
      "|  12|422063|\n",
      "|  13|424141|\n",
      "|  14|444816|\n",
      "|  15|437362|\n",
      "|  16|398199|\n",
      "|  17|474586|\n",
      "|  18|562734|\n",
      "|  19|556243|\n",
      "+----+------+\n",
      "only showing top 20 rows\n",
      "\n"
     ]
    }
   ],
   "source": [
    "tdf.groupBy(\"hour\").count.orderBy(\"hour\").show()"
   ]
  },
  {
   "cell_type": "code",
   "execution_count": 19,
   "metadata": {},
   "outputs": [
    {
     "data": {
      "application/vnd.jupyter.widget-view+json": {
       "model_id": "",
       "version_major": 2,
       "version_minor": 0
      },
      "text/plain": [
       "FloatProgress(value=0.0, bar_style='info', description='Progress:', layout=Layout(height='25px', width='50%'),…"
      ]
     },
     "metadata": {},
     "output_type": "display_data"
    },
    {
     "data": {
      "application/vnd.jupyter.widget-view+json": {
       "model_id": "cd8290b3928a4f34ad699a78165a137c",
       "version_major": 2,
       "version_minor": 0
      },
      "text/plain": [
       "VBox(children=(HBox(children=(HTML(value='Type:'), Button(description='Table', layout=Layout(width='70px'), st…"
      ]
     },
     "metadata": {},
     "output_type": "display_data"
    },
    {
     "data": {
      "application/vnd.jupyter.widget-view+json": {
       "model_id": "dfe0808fad3d41e38acbc818c7bdeecf",
       "version_major": 2,
       "version_minor": 0
      },
      "text/plain": [
       "Output()"
      ]
     },
     "metadata": {},
     "output_type": "display_data"
    }
   ],
   "source": [
    "%%sql\n",
    "select * from taxi"
   ]
  },
  {
   "cell_type": "code",
   "execution_count": 13,
   "metadata": {},
   "outputs": [
    {
     "data": {
      "application/vnd.jupyter.widget-view+json": {
       "model_id": "",
       "version_major": 2,
       "version_minor": 0
      },
      "text/plain": [
       "FloatProgress(value=0.0, bar_style='info', description='Progress:', layout=Layout(height='25px', width='50%'),…"
      ]
     },
     "metadata": {},
     "output_type": "display_data"
    },
    {
     "data": {
      "application/vnd.jupyter.widget-view+json": {
       "model_id": "57e257519b3a4b4b80b4a60a3515b39d",
       "version_major": 2,
       "version_minor": 0
      },
      "text/plain": [
       "VBox(children=(HBox(children=(HTML(value='Type:'), Button(description='Table', layout=Layout(width='70px'), st…"
      ]
     },
     "metadata": {},
     "output_type": "display_data"
    },
    {
     "data": {
      "application/vnd.jupyter.widget-view+json": {
       "model_id": "5404b665cf6d438d8d605e07ec648c23",
       "version_major": 2,
       "version_minor": 0
      },
      "text/plain": [
       "Output()"
      ]
     },
     "metadata": {},
     "output_type": "display_data"
    }
   ],
   "source": [
    "%%sql\n",
    "select trip_distance, rate_code, fare_amount, is_weekend, day_of_week from taxi\n"
   ]
  },
  {
   "cell_type": "code",
   "execution_count": 16,
   "metadata": {},
   "outputs": [
    {
     "data": {
      "application/vnd.jupyter.widget-view+json": {
       "model_id": "",
       "version_major": 2,
       "version_minor": 0
      },
      "text/plain": [
       "FloatProgress(value=0.0, bar_style='info', description='Progress:', layout=Layout(height='25px', width='50%'),…"
      ]
     },
     "metadata": {},
     "output_type": "display_data"
    },
    {
     "data": {
      "application/vnd.jupyter.widget-view+json": {
       "model_id": "37c3c1cd4a3f4ccfbb7ecc55dfa945e6",
       "version_major": 2,
       "version_minor": 0
      },
      "text/plain": [
       "VBox(children=(HBox(children=(HTML(value='Type:'), Button(description='Table', layout=Layout(width='70px'), st…"
      ]
     },
     "metadata": {},
     "output_type": "display_data"
    },
    {
     "data": {
      "application/vnd.jupyter.widget-view+json": {
       "model_id": "8cbe787431dd478e9e8f32441f6665fe",
       "version_major": 2,
       "version_minor": 0
      },
      "text/plain": [
       "Output()"
      ]
     },
     "metadata": {},
     "output_type": "display_data"
    }
   ],
   "source": [
    "%%sql\n",
    "select trip_distance,avg(trip_distance),  avg(fare_amount)\n",
    "from taxi\n",
    "group by trip_distance order by avg(trip_distance) desc\n"
   ]
  },
  {
   "cell_type": "code",
   "execution_count": 15,
   "metadata": {},
   "outputs": [
    {
     "data": {
      "application/vnd.jupyter.widget-view+json": {
       "model_id": "",
       "version_major": 2,
       "version_minor": 0
      },
      "text/plain": [
       "FloatProgress(value=0.0, bar_style='info', description='Progress:', layout=Layout(height='25px', width='50%'),…"
      ]
     },
     "metadata": {},
     "output_type": "display_data"
    },
    {
     "data": {
      "application/vnd.jupyter.widget-view+json": {
       "model_id": "ea4aa6c8c0ee418ca397f6a214bb580d",
       "version_major": 2,
       "version_minor": 0
      },
      "text/plain": [
       "VBox(children=(HBox(children=(HTML(value='Type:'), Button(description='Table', layout=Layout(width='70px'), st…"
      ]
     },
     "metadata": {},
     "output_type": "display_data"
    },
    {
     "data": {
      "application/vnd.jupyter.widget-view+json": {
       "model_id": "85aaaef60eb0435fbd16f4771a693e01",
       "version_major": 2,
       "version_minor": 0
      },
      "text/plain": [
       "Output()"
      ]
     },
     "metadata": {},
     "output_type": "display_data"
    }
   ],
   "source": [
    "%%sql\n",
    "select hour, avg(fare_amount), avg(trip_distance)\n",
    "from taxi\n",
    "group by hour order by hour "
   ]
  },
  {
   "cell_type": "code",
   "execution_count": 14,
   "metadata": {},
   "outputs": [
    {
     "data": {
      "application/vnd.jupyter.widget-view+json": {
       "model_id": "",
       "version_major": 2,
       "version_minor": 0
      },
      "text/plain": [
       "FloatProgress(value=0.0, bar_style='info', description='Progress:', layout=Layout(height='25px', width='50%'),…"
      ]
     },
     "metadata": {},
     "output_type": "display_data"
    },
    {
     "data": {
      "application/vnd.jupyter.widget-view+json": {
       "model_id": "55443abe32e74c9a974b6572becb42ba",
       "version_major": 2,
       "version_minor": 0
      },
      "text/plain": [
       "VBox(children=(HBox(children=(HTML(value='Type:'), Button(description='Table', layout=Layout(width='70px'), st…"
      ]
     },
     "metadata": {},
     "output_type": "display_data"
    },
    {
     "data": {
      "application/vnd.jupyter.widget-view+json": {
       "model_id": "39b4999624884a799fd07c2a0df86362",
       "version_major": 2,
       "version_minor": 0
      },
      "text/plain": [
       "Output()"
      ]
     },
     "metadata": {},
     "output_type": "display_data"
    }
   ],
   "source": [
    "%%sql\n",
    "select rate_code, avg(fare_amount) , avg(trip_distance)\n",
    "from taxi\n",
    "group by rate_code order by rate_code\n"
   ]
  },
  {
   "cell_type": "code",
   "execution_count": 12,
   "metadata": {},
   "outputs": [
    {
     "data": {
      "application/vnd.jupyter.widget-view+json": {
       "model_id": "",
       "version_major": 2,
       "version_minor": 0
      },
      "text/plain": [
       "FloatProgress(value=0.0, bar_style='info', description='Progress:', layout=Layout(height='25px', width='50%'),…"
      ]
     },
     "metadata": {},
     "output_type": "display_data"
    },
    {
     "data": {
      "application/vnd.jupyter.widget-view+json": {
       "model_id": "5856ccefe50d457fae3ddf02b19a06ac",
       "version_major": 2,
       "version_minor": 0
      },
      "text/plain": [
       "VBox(children=(HBox(children=(HTML(value='Type:'), Button(description='Table', layout=Layout(width='70px'), st…"
      ]
     },
     "metadata": {},
     "output_type": "display_data"
    },
    {
     "data": {
      "application/vnd.jupyter.widget-view+json": {
       "model_id": "655f3822d5ec489da8723d693c9443d8",
       "version_major": 2,
       "version_minor": 0
      },
      "text/plain": [
       "Output()"
      ]
     },
     "metadata": {},
     "output_type": "display_data"
    }
   ],
   "source": [
    "%%sql\n",
    "select hour, avg(fare_amount), avg(h_distance)\n",
    "from taxi\n",
    "group by hour order by hour\n"
   ]
  },
  {
   "cell_type": "code",
   "execution_count": null,
   "metadata": {},
   "outputs": [],
   "source": []
  }
 ],
 "metadata": {
  "kernelspec": {
   "display_name": "Spark",
   "language": "",
   "name": "sparkkernel"
  },
  "language_info": {
   "codemirror_mode": "text/x-scala",
   "mimetype": "text/x-scala",
   "name": "scala",
   "pygments_lexer": "scala"
  },
  "name": "spark3taxiETL"
 },
 "nbformat": 4,
 "nbformat_minor": 2
}
